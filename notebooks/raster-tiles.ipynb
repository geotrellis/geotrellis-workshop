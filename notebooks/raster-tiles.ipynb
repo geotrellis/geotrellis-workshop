{
 "cells": [
  {
   "cell_type": "markdown",
   "metadata": {},
   "source": [
    "# Rasters and Tiles\n",
    "\n",
    "Overview of basic types in GeoTrellis and their quirks. This workbook mostly tracks [Tiles](https://geotrellis.github.io/geotrellis-workshop/docs/tiles) from the workshop docs.\n",
    "\n"
   ]
  },
  {
   "cell_type": "code",
   "execution_count": 3,
   "metadata": {},
   "outputs": [
    {
     "data": {
      "text/plain": [
       "\u001b[32mimport \u001b[39m\u001b[36m$ivy.$                              \n",
       "\u001b[39m\n",
       "\u001b[32mimport \u001b[39m\u001b[36m$ivy.$                                                     \n",
       "\n",
       "\u001b[39m\n",
       "\u001b[32mimport \u001b[39m\u001b[36mgeotrellis.raster._\u001b[39m"
      ]
     },
     "execution_count": 3,
     "metadata": {},
     "output_type": "execute_result"
    }
   ],
   "source": [
    "import $ivy.`org.slf4j:slf4j-simple:1.7.30`\n",
    "import $ivy.`org.locationtech.geotrellis::geotrellis-raster:3.5.2`\n",
    "\n",
    "import geotrellis.raster._"
   ]
  },
  {
   "cell_type": "markdown",
   "metadata": {},
   "source": [
    "- [`Tile`](https://github.com/locationtech/geotrellis/blob/master/raster/src/main/scala/geotrellis/raster/Tile.scala) is fundemental interface in GeoTrellis. \n",
    "- Most common type of `Tile` is [`ArrayTile`](https://github.com/locationtech/geotrellis/blob/master/raster/src/main/scala/geotrellis/raster/ArrayTile.scala) -- it is backed by Scala `Array` type.\n",
    "- Any primitive type can back a `Tile` (`Int`, `Short`, `Double`, `Float`, `Byte`)\n",
    "- While `Array`s are mutable, `Tile` interface does not allow mutation.\n",
    "- Performance is primary concern behind the `Tile` interface design"
   ]
  },
  {
   "cell_type": "code",
   "execution_count": 4,
   "metadata": {},
   "outputs": [
    {
     "data": {
      "text/plain": [
       "     1     2     3     4\n",
       "     5     6     7     8\n",
       "     9    10    11    12\n",
       "    13    14    15    16\n",
       "\n"
      ]
     },
     "metadata": {},
     "output_type": "display_data"
    },
    {
     "data": {
      "text/plain": [
       "\u001b[36mrawData\u001b[39m: \u001b[32mArray\u001b[39m[\u001b[32mInt\u001b[39m] = \u001b[33mArray\u001b[39m(\n",
       "  \u001b[32m1\u001b[39m,\n",
       "  \u001b[32m2\u001b[39m,\n",
       "  \u001b[32m3\u001b[39m,\n",
       "  \u001b[32m4\u001b[39m,\n",
       "  \u001b[32m5\u001b[39m,\n",
       "  \u001b[32m6\u001b[39m,\n",
       "  \u001b[32m7\u001b[39m,\n",
       "  \u001b[32m8\u001b[39m,\n",
       "  \u001b[32m9\u001b[39m,\n",
       "  \u001b[32m10\u001b[39m,\n",
       "  \u001b[32m11\u001b[39m,\n",
       "  \u001b[32m12\u001b[39m,\n",
       "  \u001b[32m13\u001b[39m,\n",
       "  \u001b[32m14\u001b[39m,\n",
       "  \u001b[32m15\u001b[39m,\n",
       "  \u001b[32m16\u001b[39m\n",
       ")\n",
       "\u001b[36mtile16\u001b[39m: \u001b[32mIntConstantNoDataArrayTile\u001b[39m = \u001b[33mIntConstantNoDataArrayTile\u001b[39m(\n",
       "  \u001b[33mArray\u001b[39m(\u001b[32m1\u001b[39m, \u001b[32m2\u001b[39m, \u001b[32m3\u001b[39m, \u001b[32m4\u001b[39m, \u001b[32m5\u001b[39m, \u001b[32m6\u001b[39m, \u001b[32m7\u001b[39m, \u001b[32m8\u001b[39m, \u001b[32m9\u001b[39m, \u001b[32m10\u001b[39m, \u001b[32m11\u001b[39m, \u001b[32m12\u001b[39m, \u001b[32m13\u001b[39m, \u001b[32m14\u001b[39m, \u001b[32m15\u001b[39m, \u001b[32m16\u001b[39m),\n",
       "  \u001b[32m4\u001b[39m,\n",
       "  \u001b[32m4\u001b[39m\n",
       ")"
      ]
     },
     "execution_count": 4,
     "metadata": {},
     "output_type": "execute_result"
    }
   ],
   "source": [
    "val rawData = 1 to 16 toArray\n",
    "val tile16 = ArrayTile(rawData, cols = 4, rows = 4)\n",
    "Text(tile16.asciiDraw())"
   ]
  },
  {
   "cell_type": "markdown",
   "metadata": {},
   "source": [
    "## CellType\n",
    "\n",
    "Tile also has to have a [`CellType`](https://github.com/locationtech/geotrellis/blob/master/raster/src/main/scala/geotrellis/raster/CellType.scala) in order to carry the `NODATA` value and keep track of unsigned types. Its string representation encodes the nodata type.\n",
    "\n",
    "- [NoDatas per data type](https://github.com/locationtech/geotrellis/blob/1a2ea84f7a15d790a13a75ede0fecee351ac4a7e/raster/src/main/scala/geotrellis/raster/package.scala#L104-L111)\n"
   ]
  },
  {
   "cell_type": "code",
   "execution_count": 5,
   "metadata": {
    "scrolled": true
   },
   "outputs": [
    {
     "data": {
      "text/plain": [
       "\u001b[36mres4\u001b[39m: \u001b[32mIntConstantNoDataCellType\u001b[39m.type = int32"
      ]
     },
     "execution_count": 5,
     "metadata": {},
     "output_type": "execute_result"
    }
   ],
   "source": [
    "tile16.cellType"
   ]
  },
  {
   "cell_type": "markdown",
   "metadata": {},
   "source": [
    "`NODATA` part of `CellType` effects what values we see:"
   ]
  },
  {
   "cell_type": "code",
   "execution_count": 6,
   "metadata": {},
   "outputs": [
    {
     "data": {
      "text/plain": [
       "\u001b[36mres5\u001b[39m: \u001b[32mInt\u001b[39m = \u001b[32m1\u001b[39m"
      ]
     },
     "execution_count": 6,
     "metadata": {},
     "output_type": "execute_result"
    }
   ],
   "source": [
    "tile16.get(0, 0)"
   ]
  },
  {
   "cell_type": "code",
   "execution_count": 7,
   "metadata": {},
   "outputs": [
    {
     "data": {
      "text/plain": [
       "\u001b[36mres6\u001b[39m: \u001b[32mInt\u001b[39m = \u001b[32m-2147483648\u001b[39m"
      ]
     },
     "execution_count": 7,
     "metadata": {},
     "output_type": "execute_result"
    }
   ],
   "source": [
    "tile16.withNoData(Some(1)).get(0, 0)"
   ]
  },
  {
   "cell_type": "markdown",
   "metadata": {},
   "source": [
    "Operations on `Tile` use `CellType` to determine \"safe\" result type."
   ]
  },
  {
   "cell_type": "code",
   "execution_count": 10,
   "metadata": {},
   "outputs": [
    {
     "data": {
      "text/plain": [
       "\u001b[36mres9\u001b[39m: \u001b[32mCellType\u001b[39m = float32raw"
      ]
     },
     "execution_count": 10,
     "metadata": {},
     "output_type": "execute_result"
    }
   ],
   "source": [
    "IntCellType.union(FloatCellType)"
   ]
  },
  {
   "cell_type": "markdown",
   "metadata": {},
   "source": [
    "## Tile Interface\n",
    "Regardless of what type backs the Tile when we access the pixels values they're unified to either `Int` or `Double`. This is done for performance reasons and to facilitate working across cell types. Every method used to access pixel values has `_Double` version (ex: `get` and `getDouble`). The conversion happens on the fly, without affecting the underlying data."
   ]
  },
  {
   "cell_type": "code",
   "execution_count": 12,
   "metadata": {},
   "outputs": [
    {
     "data": {
      "text/plain": [
       "\u001b[36mres11_0\u001b[39m: \u001b[32mInt\u001b[39m = \u001b[32m1\u001b[39m\n",
       "\u001b[36mres11_1\u001b[39m: \u001b[32mDouble\u001b[39m = \u001b[32m1.0\u001b[39m"
      ]
     },
     "execution_count": 12,
     "metadata": {},
     "output_type": "execute_result"
    }
   ],
   "source": [
    "tile16.get(0,0)\n",
    "tile16.getDouble(0,0)"
   ]
  },
  {
   "cell_type": "code",
   "execution_count": 18,
   "metadata": {},
   "outputs": [
    {
     "data": {
      "text/plain": [
       "     0     0     0     0\n",
       "     0     0     0     0\n",
       "     0     1     1     1\n",
       "     1     1     1     1\n",
       "\n"
      ]
     },
     "metadata": {},
     "output_type": "display_data"
    },
    {
     "data": {
      "text/plain": [
       "\u001b[36mfloats\u001b[39m: \u001b[32mArray\u001b[39m[\u001b[32mFloat\u001b[39m] = \u001b[33mArray\u001b[39m(\n",
       "  \u001b[32m0.1F\u001b[39m,\n",
       "  \u001b[32m0.2F\u001b[39m,\n",
       "  \u001b[32m0.3F\u001b[39m,\n",
       "  \u001b[32m0.4F\u001b[39m,\n",
       "  \u001b[32m0.5F\u001b[39m,\n",
       "  \u001b[32m0.6F\u001b[39m,\n",
       "  \u001b[32m0.7F\u001b[39m,\n",
       "  \u001b[32m0.8F\u001b[39m,\n",
       "  \u001b[32m0.9F\u001b[39m,\n",
       "  \u001b[32m1.0F\u001b[39m,\n",
       "  \u001b[32m1.1F\u001b[39m,\n",
       "  \u001b[32m1.2F\u001b[39m,\n",
       "  \u001b[32m1.3F\u001b[39m,\n",
       "  \u001b[32m1.4F\u001b[39m,\n",
       "  \u001b[32m1.5F\u001b[39m,\n",
       "  \u001b[32m1.6F\u001b[39m\n",
       ")\n",
       "\u001b[36mtileFloat\u001b[39m: \u001b[32mFloatConstantNoDataArrayTile\u001b[39m = \u001b[33mFloatConstantNoDataArrayTile\u001b[39m(\n",
       "  \u001b[33mArray\u001b[39m(\n",
       "    \u001b[32m0.1F\u001b[39m,\n",
       "    \u001b[32m0.2F\u001b[39m,\n",
       "    \u001b[32m0.3F\u001b[39m,\n",
       "    \u001b[32m0.4F\u001b[39m,\n",
       "    \u001b[32m0.5F\u001b[39m,\n",
       "    \u001b[32m0.6F\u001b[39m,\n",
       "    \u001b[32m0.7F\u001b[39m,\n",
       "    \u001b[32m0.8F\u001b[39m,\n",
       "    \u001b[32m0.9F\u001b[39m,\n",
       "    \u001b[32m1.0F\u001b[39m,\n",
       "    \u001b[32m1.1F\u001b[39m,\n",
       "    \u001b[32m1.2F\u001b[39m,\n",
       "    \u001b[32m1.3F\u001b[39m,\n",
       "    \u001b[32m1.4F\u001b[39m,\n",
       "    \u001b[32m1.5F\u001b[39m,\n",
       "    \u001b[32m1.6F\u001b[39m\n",
       "  ),\n",
       "  \u001b[32m4\u001b[39m,\n",
       "  \u001b[32m4\u001b[39m\n",
       ")"
      ]
     },
     "execution_count": 18,
     "metadata": {},
     "output_type": "execute_result"
    }
   ],
   "source": [
    "val floats = (1 to 16 toArray).map(x => x.toFloat / 10)\n",
    "val tileFloat = ArrayTile(floats, cols = 4, rows = 4)\n",
    "Text(tileFloat.asciiDraw)"
   ]
  },
  {
   "cell_type": "code",
   "execution_count": 19,
   "metadata": {},
   "outputs": [
    {
     "data": {
      "text/plain": [
       "\u001b[36mres18_0\u001b[39m: \u001b[32mInt\u001b[39m = \u001b[32m0\u001b[39m\n",
       "\u001b[36mres18_1\u001b[39m: \u001b[32mDouble\u001b[39m = \u001b[32m0.10000000149011612\u001b[39m"
      ]
     },
     "execution_count": 19,
     "metadata": {},
     "output_type": "execute_result"
    }
   ],
   "source": [
    "tileFloat.get(0,0)\n",
    "tileFloat.getDouble(0,0)"
   ]
  },
  {
   "cell_type": "markdown",
   "metadata": {},
   "source": [
    "### Tile Interface and NODATA\n",
    "\n",
    "When using `Tile` methods the `NODATA` cells are converted to either `Int.MinValue` or `Double.NaN` \n",
    "\n",
    "**regardless of underlying cell value**"
   ]
  },
  {
   "cell_type": "code",
   "execution_count": 31,
   "metadata": {},
   "outputs": [
    {
     "data": {
      "text/plain": [
       "\u001b[36mtile5ND\u001b[39m: \u001b[32mTile\u001b[39m = \u001b[33mIntUserDefinedNoDataArrayTile\u001b[39m(\n",
       "  \u001b[33mArray\u001b[39m(\u001b[32m1\u001b[39m, \u001b[32m2\u001b[39m, \u001b[32m3\u001b[39m, \u001b[32m4\u001b[39m, \u001b[32m5\u001b[39m, \u001b[32m6\u001b[39m, \u001b[32m7\u001b[39m, \u001b[32m8\u001b[39m, \u001b[32m9\u001b[39m, \u001b[32m10\u001b[39m, \u001b[32m11\u001b[39m, \u001b[32m12\u001b[39m, \u001b[32m13\u001b[39m, \u001b[32m14\u001b[39m, \u001b[32m15\u001b[39m, \u001b[32m16\u001b[39m),\n",
       "  \u001b[32m4\u001b[39m,\n",
       "  \u001b[32m4\u001b[39m,\n",
       "  \u001b[33mIntUserDefinedNoDataCellType\u001b[39m(\u001b[32m5\u001b[39m)\n",
       ")"
      ]
     },
     "execution_count": 31,
     "metadata": {},
     "output_type": "execute_result"
    }
   ],
   "source": [
    "val tile5ND = tile16.withNoData(Some(5))"
   ]
  },
  {
   "cell_type": "code",
   "execution_count": 21,
   "metadata": {},
   "outputs": [
    {
     "data": {
      "text/plain": [
       "     1     2     3     4\n",
       "    ND     6     7     8\n",
       "     9    10    11    12\n",
       "    13    14    15    16\n",
       "\n"
      ]
     },
     "metadata": {},
     "output_type": "display_data"
    }
   ],
   "source": [
    "Text(tile5ND.asciiDraw())"
   ]
  },
  {
   "cell_type": "code",
   "execution_count": 30,
   "metadata": {},
   "outputs": [
    {
     "data": {
      "text/plain": [
       "\u001b[36mres29_0\u001b[39m: \u001b[32mInt\u001b[39m = \u001b[32m-2147483648\u001b[39m\n",
       "\u001b[36mres29_1\u001b[39m: \u001b[32mDouble\u001b[39m = \u001b[32mNaN\u001b[39m"
      ]
     },
     "execution_count": 30,
     "metadata": {},
     "output_type": "execute_result"
    }
   ],
   "source": [
    "tile5ND.get(0, 1)\n",
    "tile5ND.getDouble(0, 1)"
   ]
  },
  {
   "cell_type": "markdown",
   "metadata": {},
   "source": [
    "Use `isData` and `isNoData` macros to test cell values from `Tile`. \n",
    "\n",
    "They're macros that are valid for both `Int` and `Double` values."
   ]
  },
  {
   "cell_type": "code",
   "execution_count": 29,
   "metadata": {},
   "outputs": [
    {
     "data": {
      "text/html": [
       "<div class=\"jp-RenderedText\">\n",
       "<pre><code><span style=\"color: rgb(0, 187, 187)\"><span class=\"ansi-cyan-fg\">intCount</span></span>: <span style=\"color: rgb(0, 187, 0)\"><span class=\"ansi-green-fg\">Int</span></span> = <span style=\"color: rgb(0, 187, 0)\"><span class=\"ansi-green-fg\">15</span></span></code></pre>\n",
       "</div>"
      ],
      "text/plain": [
       "\u001b[36mintCount\u001b[39m: \u001b[32mInt\u001b[39m = \u001b[32m15\u001b[39m"
      ]
     },
     "metadata": {},
     "output_type": "display_data"
    }
   ],
   "source": [
    "var intCount = 0\n",
    "\n",
    "tile5ND.foreach { v => if (isData(v)) intCount += 1 }"
   ]
  },
  {
   "cell_type": "code",
   "execution_count": 24,
   "metadata": {},
   "outputs": [
    {
     "data": {
      "text/plain": [
       "\u001b[36mtileFND\u001b[39m: \u001b[32mFloatArrayTile\u001b[39m = \u001b[33mFloatUserDefinedNoDataArrayTile\u001b[39m(\n",
       "  \u001b[33mArray\u001b[39m(\n",
       "    \u001b[32m0.1F\u001b[39m,\n",
       "    \u001b[32m0.2F\u001b[39m,\n",
       "    \u001b[32m0.3F\u001b[39m,\n",
       "    \u001b[32m0.4F\u001b[39m,\n",
       "    \u001b[32m0.5F\u001b[39m,\n",
       "    \u001b[32m0.6F\u001b[39m,\n",
       "    \u001b[32m0.7F\u001b[39m,\n",
       "    \u001b[32m0.8F\u001b[39m,\n",
       "    \u001b[32m0.9F\u001b[39m,\n",
       "    \u001b[32m1.0F\u001b[39m,\n",
       "    \u001b[32m1.1F\u001b[39m,\n",
       "    \u001b[32m1.2F\u001b[39m,\n",
       "    \u001b[32m1.3F\u001b[39m,\n",
       "    \u001b[32m1.4F\u001b[39m,\n",
       "    \u001b[32m1.5F\u001b[39m,\n",
       "    \u001b[32m1.6F\u001b[39m\n",
       "  ),\n",
       "  \u001b[32m4\u001b[39m,\n",
       "  \u001b[32m4\u001b[39m,\n",
       "  \u001b[33mFloatUserDefinedNoDataCellType\u001b[39m(\u001b[32m0.5F\u001b[39m)\n",
       ")"
      ]
     },
     "execution_count": 24,
     "metadata": {},
     "output_type": "execute_result"
    }
   ],
   "source": [
    "val tileFND = tileFloat.withNoData(Some(0.5F))"
   ]
  },
  {
   "cell_type": "code",
   "execution_count": 27,
   "metadata": {},
   "outputs": [
    {
     "data": {
      "text/plain": [
       "   0.1   0.2   0.3   0.4\n",
       "    ND   0.6   0.7   0.8\n",
       "   0.9     1     1     1\n",
       "     1     1     2     2\n",
       "\n"
      ]
     },
     "metadata": {},
     "output_type": "display_data"
    }
   ],
   "source": [
    "Text(tileFND.asciiDrawDouble(1))"
   ]
  },
  {
   "cell_type": "code",
   "execution_count": 32,
   "metadata": {},
   "outputs": [
    {
     "data": {
      "text/html": [
       "<div class=\"jp-RenderedText\">\n",
       "<pre><code><span style=\"color: rgb(0, 187, 187)\"><span class=\"ansi-cyan-fg\">floatCount</span></span>: <span style=\"color: rgb(0, 187, 0)\"><span class=\"ansi-green-fg\">Int</span></span> = <span style=\"color: rgb(0, 187, 0)\"><span class=\"ansi-green-fg\">15</span></span></code></pre>\n",
       "</div>"
      ],
      "text/plain": [
       "\u001b[36mfloatCount\u001b[39m: \u001b[32mInt\u001b[39m = \u001b[32m15\u001b[39m"
      ]
     },
     "metadata": {},
     "output_type": "display_data"
    }
   ],
   "source": [
    "var floatCount = 0\n",
    "\n",
    "tileFND.foreach { v => if (isData(v)) floatCount += 1 }"
   ]
  },
  {
   "cell_type": "markdown",
   "metadata": {},
   "source": [
    "### Actual way to use Tile\n",
    "\n",
    "In practice you almost never want to use `Tile.get`, there are better ways to do work"
   ]
  },
  {
   "cell_type": "code",
   "execution_count": 34,
   "metadata": {
    "scrolled": true
   },
   "outputs": [
    {
     "data": {
      "text/plain": [
       "\u001b[36mres33_0\u001b[39m: \u001b[32mTile\u001b[39m = \u001b[33mIntUserDefinedNoDataArrayTile\u001b[39m(\n",
       "  \u001b[33mArray\u001b[39m(\u001b[32m2\u001b[39m, \u001b[32m3\u001b[39m, \u001b[32m4\u001b[39m, \u001b[32m5\u001b[39m, \u001b[32m-2147483647\u001b[39m, \u001b[32m7\u001b[39m, \u001b[32m8\u001b[39m, \u001b[32m9\u001b[39m, \u001b[32m10\u001b[39m, \u001b[32m11\u001b[39m, \u001b[32m12\u001b[39m, \u001b[32m13\u001b[39m, \u001b[32m14\u001b[39m, \u001b[32m15\u001b[39m, \u001b[32m16\u001b[39m, \u001b[32m17\u001b[39m),\n",
       "  \u001b[32m4\u001b[39m,\n",
       "  \u001b[32m4\u001b[39m,\n",
       "  \u001b[33mIntUserDefinedNoDataCellType\u001b[39m(\u001b[32m5\u001b[39m)\n",
       ")\n",
       "\u001b[36mres33_1\u001b[39m: \u001b[32mTile\u001b[39m = \u001b[33mIntUserDefinedNoDataArrayTile\u001b[39m(\n",
       "  \u001b[33mArray\u001b[39m(\u001b[32m2\u001b[39m, \u001b[32m3\u001b[39m, \u001b[32m4\u001b[39m, \u001b[32m5\u001b[39m, \u001b[32m5\u001b[39m, \u001b[32m7\u001b[39m, \u001b[32m8\u001b[39m, \u001b[32m9\u001b[39m, \u001b[32m10\u001b[39m, \u001b[32m11\u001b[39m, \u001b[32m12\u001b[39m, \u001b[32m13\u001b[39m, \u001b[32m14\u001b[39m, \u001b[32m15\u001b[39m, \u001b[32m16\u001b[39m, \u001b[32m17\u001b[39m),\n",
       "  \u001b[32m4\u001b[39m,\n",
       "  \u001b[32m4\u001b[39m,\n",
       "  \u001b[33mIntUserDefinedNoDataCellType\u001b[39m(\u001b[32m5\u001b[39m)\n",
       ")"
      ]
     },
     "execution_count": 34,
     "metadata": {},
     "output_type": "execute_result"
    }
   ],
   "source": [
    "// immutability!\n",
    "tile5ND.map { v => v + 1 }\n",
    "// Hey, value at index 5 changed ..."
   ]
  },
  {
   "cell_type": "code",
   "execution_count": 35,
   "metadata": {},
   "outputs": [
    {
     "data": {
      "text/plain": [
       "\u001b[36mres34\u001b[39m: \u001b[32mArrayTile\u001b[39m = \u001b[33mFloatConstantNoDataArrayTile\u001b[39m(\n",
       "  \u001b[33mArray\u001b[39m(\n",
       "    \u001b[32m1.0F\u001b[39m,\n",
       "    \u001b[32m2.0F\u001b[39m,\n",
       "    \u001b[32m3.0F\u001b[39m,\n",
       "    \u001b[32m4.0F\u001b[39m,\n",
       "    \u001b[32m5.0F\u001b[39m,\n",
       "    \u001b[32m6.0F\u001b[39m,\n",
       "    \u001b[32m7.0F\u001b[39m,\n",
       "    \u001b[32m8.0F\u001b[39m,\n",
       "    \u001b[32m9.0F\u001b[39m,\n",
       "    \u001b[32m11.0F\u001b[39m,\n",
       "    \u001b[32m12.0F\u001b[39m,\n",
       "    \u001b[32m13.0F\u001b[39m,\n",
       "    \u001b[32m14.0F\u001b[39m,\n",
       "    \u001b[32m15.0F\u001b[39m,\n",
       "    \u001b[32m16.0F\u001b[39m,\n",
       "    \u001b[32m17.0F\u001b[39m\n",
       "  ),\n",
       "  \u001b[32m4\u001b[39m,\n",
       "  \u001b[32m4\u001b[39m\n",
       ")"
      ]
     },
     "execution_count": 35,
     "metadata": {},
     "output_type": "execute_result"
    }
   ],
   "source": [
    "tile16.combine(tileFloat) { (a, b) => a + b }"
   ]
  },
  {
   "cell_type": "code",
   "execution_count": 36,
   "metadata": {},
   "outputs": [
    {
     "data": {
      "text/plain": [
       "\u001b[36mres35\u001b[39m: \u001b[32mArrayTile\u001b[39m = \u001b[33mFloatConstantNoDataArrayTile\u001b[39m(\n",
       "  \u001b[33mArray\u001b[39m(\n",
       "    \u001b[32m1.1F\u001b[39m,\n",
       "    \u001b[32m2.2F\u001b[39m,\n",
       "    \u001b[32m3.3F\u001b[39m,\n",
       "    \u001b[32m4.4F\u001b[39m,\n",
       "    \u001b[32m5.5F\u001b[39m,\n",
       "    \u001b[32m6.6F\u001b[39m,\n",
       "    \u001b[32m7.7F\u001b[39m,\n",
       "    \u001b[32m8.8F\u001b[39m,\n",
       "    \u001b[32m9.9F\u001b[39m,\n",
       "    \u001b[32m11.0F\u001b[39m,\n",
       "    \u001b[32m12.1F\u001b[39m,\n",
       "    \u001b[32m13.2F\u001b[39m,\n",
       "    \u001b[32m14.3F\u001b[39m,\n",
       "    \u001b[32m15.4F\u001b[39m,\n",
       "    \u001b[32m16.5F\u001b[39m,\n",
       "    \u001b[32m17.6F\u001b[39m\n",
       "  ),\n",
       "  \u001b[32m4\u001b[39m,\n",
       "  \u001b[32m4\u001b[39m\n",
       ")"
      ]
     },
     "execution_count": 36,
     "metadata": {},
     "output_type": "execute_result"
    }
   ],
   "source": [
    "tile16.combineDouble(tileFloat) { (a, b) => a + b }"
   ]
  },
  {
   "cell_type": "code",
   "execution_count": 88,
   "metadata": {},
   "outputs": [
    {
     "data": {
      "text/plain": [
       "\u001b[36mres87\u001b[39m: \u001b[32mTile\u001b[39m = \u001b[33mFloatConstantNoDataArrayTile\u001b[39m(\n",
       "  \u001b[33mArray\u001b[39m(\n",
       "    \u001b[32m667.1F\u001b[39m,\n",
       "    \u001b[32m2.2F\u001b[39m,\n",
       "    \u001b[32m3.3F\u001b[39m,\n",
       "    \u001b[32m4.4F\u001b[39m,\n",
       "    \u001b[32m5.5F\u001b[39m,\n",
       "    \u001b[32m6.6F\u001b[39m,\n",
       "    \u001b[32m7.7F\u001b[39m,\n",
       "    \u001b[32m8.8F\u001b[39m,\n",
       "    \u001b[32m9.9F\u001b[39m,\n",
       "    \u001b[32m11.0F\u001b[39m,\n",
       "    \u001b[32m12.1F\u001b[39m,\n",
       "    \u001b[32m13.2F\u001b[39m,\n",
       "    \u001b[32m14.3F\u001b[39m,\n",
       "    \u001b[32m15.4F\u001b[39m,\n",
       "    \u001b[32m16.5F\u001b[39m,\n",
       "    \u001b[32m17.6F\u001b[39m\n",
       "  ),\n",
       "  \u001b[32m4\u001b[39m,\n",
       "  \u001b[32m4\u001b[39m\n",
       ")"
      ]
     },
     "execution_count": 88,
     "metadata": {},
     "output_type": "execute_result"
    }
   ],
   "source": [
    "tile16 + tileFloat // hey, that's safe!"
   ]
  },
  {
   "cell_type": "markdown",
   "metadata": {},
   "source": [
    "### Mutable Tiles"
   ]
  },
  {
   "cell_type": "code",
   "execution_count": 90,
   "metadata": {},
   "outputs": [
    {
     "data": {
      "text/plain": [
       "\u001b[36mmut\u001b[39m: \u001b[32mMutableArrayTile\u001b[39m = \u001b[33mIntConstantNoDataArrayTile\u001b[39m(\n",
       "  \u001b[33mArray\u001b[39m(\u001b[32m667\u001b[39m, \u001b[32m2\u001b[39m, \u001b[32m3\u001b[39m, \u001b[32m4\u001b[39m, \u001b[32m5\u001b[39m, \u001b[32m6\u001b[39m, \u001b[32m7\u001b[39m, \u001b[32m8\u001b[39m, \u001b[32m9\u001b[39m, \u001b[32m10\u001b[39m, \u001b[32m11\u001b[39m, \u001b[32m12\u001b[39m, \u001b[32m13\u001b[39m, \u001b[32m14\u001b[39m, \u001b[32m15\u001b[39m, \u001b[32m16\u001b[39m),\n",
       "  \u001b[32m4\u001b[39m,\n",
       "  \u001b[32m4\u001b[39m\n",
       ")"
      ]
     },
     "execution_count": 90,
     "metadata": {},
     "output_type": "execute_result"
    }
   ],
   "source": [
    "val mut = tile16.mutable\n",
    "mut.set(0, 0, 667)"
   ]
  },
  {
   "cell_type": "markdown",
   "metadata": {},
   "source": [
    "## Rasters\n",
    "\n",
    "[`Raster`](https://github.com/locationtech/geotrellis/blob/2f8348ac299d889282b7e6d379eed4696ece1dd7/raster/src/main/scala/geotrellis/raster/Raster.scala#L63) is a composition of `Tile` and `Extent`, placing the tile pixels on a map.\n",
    "\n",
    "It's up to you to know what projection that raster is in, it does not track `CRS`."
   ]
  },
  {
   "cell_type": "code",
   "execution_count": 37,
   "metadata": {},
   "outputs": [
    {
     "data": {
      "text/plain": [
       "\u001b[32mimport \u001b[39m\u001b[36mgeotrellis.vector._\n",
       "\n",
       "\u001b[39m\n",
       "\u001b[36mraster16\u001b[39m: \u001b[32mRaster\u001b[39m[\u001b[32mIntConstantNoDataArrayTile\u001b[39m] = \u001b[33mRaster\u001b[39m(\n",
       "  \u001b[33mIntConstantNoDataArrayTile\u001b[39m(\n",
       "    \u001b[33mArray\u001b[39m(\u001b[32m1\u001b[39m, \u001b[32m2\u001b[39m, \u001b[32m3\u001b[39m, \u001b[32m4\u001b[39m, \u001b[32m5\u001b[39m, \u001b[32m6\u001b[39m, \u001b[32m7\u001b[39m, \u001b[32m8\u001b[39m, \u001b[32m9\u001b[39m, \u001b[32m10\u001b[39m, \u001b[32m11\u001b[39m, \u001b[32m12\u001b[39m, \u001b[32m13\u001b[39m, \u001b[32m14\u001b[39m, \u001b[32m15\u001b[39m, \u001b[32m16\u001b[39m),\n",
       "    \u001b[32m4\u001b[39m,\n",
       "    \u001b[32m4\u001b[39m\n",
       "  ),\n",
       "  \u001b[33mExtent\u001b[39m(\u001b[32m0.0\u001b[39m, \u001b[32m0.0\u001b[39m, \u001b[32m2.0\u001b[39m, \u001b[32m2.0\u001b[39m)\n",
       ")"
      ]
     },
     "execution_count": 37,
     "metadata": {},
     "output_type": "execute_result"
    }
   ],
   "source": [
    "import geotrellis.vector._\n",
    "\n",
    "val raster16 = Raster(tile16, Extent(0, 0, 2, 2))"
   ]
  },
  {
   "cell_type": "code",
   "execution_count": null,
   "metadata": {},
   "outputs": [],
   "source": [
    "raster16.cellSize"
   ]
  },
  {
   "cell_type": "markdown",
   "metadata": {},
   "source": [
    "### RasterExtent\n",
    "\n",
    "`Raster.rasterExtent` helps you translate between pixel space and map space"
   ]
  },
  {
   "cell_type": "code",
   "execution_count": 38,
   "metadata": {},
   "outputs": [
    {
     "data": {
      "text/plain": [
       "\u001b[36mre\u001b[39m: \u001b[32mRasterExtent\u001b[39m = \u001b[33mRasterExtent\u001b[39m(\u001b[33mExtent\u001b[39m(\u001b[32m0.0\u001b[39m, \u001b[32m0.0\u001b[39m, \u001b[32m2.0\u001b[39m, \u001b[32m2.0\u001b[39m), \u001b[32m0.5\u001b[39m, \u001b[32m0.5\u001b[39m, \u001b[32m4\u001b[39m, \u001b[32m4\u001b[39m)"
      ]
     },
     "execution_count": 38,
     "metadata": {},
     "output_type": "execute_result"
    }
   ],
   "source": [
    "val re = raster16.rasterExtent"
   ]
  },
  {
   "cell_type": "code",
   "execution_count": null,
   "metadata": {},
   "outputs": [],
   "source": [
    "re.gridToMap(0, 0)\n",
    "re.gridToMap(0, 3)"
   ]
  },
  {
   "cell_type": "code",
   "execution_count": null,
   "metadata": {
    "scrolled": true
   },
   "outputs": [],
   "source": [
    "re.mapToGrid(0.3, 0.3) // closest cell"
   ]
  },
  {
   "cell_type": "markdown",
   "metadata": {},
   "source": [
    "You can even rasterizer a geometry:\n",
    "- [`RasterExtentRasterizeMethods`](https://github.com/locationtech/geotrellis/blob/master/raster/src/main/scala/geotrellis/raster/rasterize/RasterExtentRasterizeMethods.scala)\n",
    "- available via [implicit method extension](https://github.com/locationtech/geotrellis/blob/1a2ea84f7a15d790a13a75ede0fecee351ac4a7e/raster/src/main/scala/geotrellis/raster/rasterize/Implicits.scala#L26)"
   ]
  },
  {
   "cell_type": "code",
   "execution_count": 39,
   "metadata": {},
   "outputs": [
    {
     "name": "stdout",
     "output_type": "stream",
     "text": [
      "1, 3\n",
      "2, 2\n",
      "3, 1\n"
     ]
    },
    {
     "data": {
      "text/plain": [
       "\u001b[36mline\u001b[39m: \u001b[32mLineString\u001b[39m = LINESTRING (0 0, 2 2)"
      ]
     },
     "execution_count": 39,
     "metadata": {},
     "output_type": "execute_result"
    }
   ],
   "source": [
    "val line = LineString(List(Point(0,0), Point(2, 2)))\n",
    "\n",
    "re.foreach(line){ (col, row) => println(s\"$col, $row\") }"
   ]
  }
 ],
 "metadata": {
  "kernelspec": {
   "display_name": "Scala 2.12",
   "language": "scala",
   "name": "scala212"
  },
  "language_info": {
   "codemirror_mode": "text/x-scala",
   "file_extension": ".sc",
   "mimetype": "text/x-scala",
   "name": "scala",
   "nbconvert_exporter": "script",
   "version": "2.12.12"
  }
 },
 "nbformat": 4,
 "nbformat_minor": 4
}
