{
 "cells": [
  {
   "cell_type": "markdown",
   "metadata": {},
   "source": [
    "# Rasters and Tiles\n",
    "\n",
    "Overview of basic types in GeoTrellis and their quirks. This workbook mostly tracks [Tiles](https://geotrellis.github.io/geotrellis-workshop/docs/tiles) from the workshop docs.\n",
    "\n"
   ]
  },
  {
   "cell_type": "code",
   "execution_count": null,
   "metadata": {},
   "outputs": [],
   "source": [
    "import $ivy.`org.slf4j:slf4j-simple:1.7.30`\n",
    "import $ivy.`org.locationtech.geotrellis::geotrellis-raster:3.5.2`\n",
    "\n",
    "import geotrellis.raster._"
   ]
  },
  {
   "cell_type": "markdown",
   "metadata": {},
   "source": [
    "- [`Tile`](https://github.com/locationtech/geotrellis/blob/master/raster/src/main/scala/geotrellis/raster/Tile.scala) is fundemental interface in GeoTrellis. \n",
    "- Most common type of `Tile` is [`ArrayTile`](https://github.com/locationtech/geotrellis/blob/master/raster/src/main/scala/geotrellis/raster/ArrayTile.scala) -- it is backed by Scala `Array` type.\n",
    "- Any primitive type can back a `Tile` (`Int`, `Short`, `Double`, `Float`, `Byte`)\n",
    "- While `Array`s are mutable, `Tile` interface does not allow mutation.\n",
    "- Performance is primary concern behind the `Tile` interface design"
   ]
  },
  {
   "cell_type": "code",
   "execution_count": null,
   "metadata": {},
   "outputs": [],
   "source": [
    "val rawData = 1 to 16 toArray\n",
    "val tile16 = ArrayTile(rawData, cols = 4, rows = 4)\n",
    "Text(tile16.asciiDraw())"
   ]
  },
  {
   "cell_type": "markdown",
   "metadata": {},
   "source": [
    "## CellType\n",
    "\n",
    "Tile also has to have a [`CellType`](https://github.com/locationtech/geotrellis/blob/master/raster/src/main/scala/geotrellis/raster/CellType.scala) in order to carry the `NODATA` value and keep track of unsigned types. Its string representation encodes the nodata type.\n",
    "\n",
    "- [NoDatas per data type](https://github.com/locationtech/geotrellis/blob/1a2ea84f7a15d790a13a75ede0fecee351ac4a7e/raster/src/main/scala/geotrellis/raster/package.scala#L104-L111)\n"
   ]
  },
  {
   "cell_type": "code",
   "execution_count": null,
   "metadata": {
    "scrolled": true
   },
   "outputs": [],
   "source": [
    "tile16.cellType"
   ]
  },
  {
   "cell_type": "markdown",
   "metadata": {},
   "source": [
    "`NODATA` part of `CellType` effects what values we see:"
   ]
  },
  {
   "cell_type": "code",
   "execution_count": null,
   "metadata": {},
   "outputs": [],
   "source": [
    "tile16.get(0, 0)"
   ]
  },
  {
   "cell_type": "code",
   "execution_count": null,
   "metadata": {},
   "outputs": [],
   "source": [
    "tile16.withNoData(Some(1)).get(0, 0)"
   ]
  },
  {
   "cell_type": "code",
   "execution_count": null,
   "metadata": {},
   "outputs": [],
   "source": [
    "tile16.withNoData(Some(1)).asciiDraw()"
   ]
  },
  {
   "cell_type": "markdown",
   "metadata": {},
   "source": [
    "Operations on `Tile` use `CellType` to determine \"safe\" result type."
   ]
  },
  {
   "cell_type": "code",
   "execution_count": null,
   "metadata": {},
   "outputs": [],
   "source": [
    "IntCellType.union(ShortCellType)"
   ]
  },
  {
   "cell_type": "markdown",
   "metadata": {},
   "source": [
    "## Tile Interface\n",
    "Regardless of what type backs the Tile when we access the pixels values they're unified to either `Int` or `Double`. This is done for performance reasons and to facilitate working across cell types. Every method used to access pixel values has `_Double` version (ex: `get` and `getDouble`). The conversion happens on the fly, without affecting the underlying data."
   ]
  },
  {
   "cell_type": "code",
   "execution_count": null,
   "metadata": {},
   "outputs": [],
   "source": [
    "tile16.get(0,0)\n",
    "tile16.getDouble(0,0)"
   ]
  },
  {
   "cell_type": "code",
   "execution_count": null,
   "metadata": {},
   "outputs": [],
   "source": [
    "val list = (1 to 16 toArray).toList\n",
    "\n",
    "def toFloat(x: Int): Float = x.toFloat / 10\n",
    "\n",
    "list.map(toFloat)\n",
    "\n",
    "val toFloatValue: Int => Float = { x => x.toFloat / 10 }"
   ]
  },
  {
   "cell_type": "code",
   "execution_count": null,
   "metadata": {},
   "outputs": [],
   "source": [
    "val floats = (1 to 16 toArray).map(x => x.toFloat / 10)\n",
    "val tileFloat = ArrayTile(floats, cols = 4, rows = 4)\n",
    "Text(tileFloat.asciiDraw)"
   ]
  },
  {
   "cell_type": "code",
   "execution_count": null,
   "metadata": {},
   "outputs": [],
   "source": [
    "tileFloat.get(0,0)\n",
    "tileFloat.getDouble(0,0)\n",
    "\n",
    "Text(tileFloat.asciiDrawDouble(1))"
   ]
  },
  {
   "cell_type": "markdown",
   "metadata": {},
   "source": [
    "### Tile Interface and NODATA\n",
    "\n",
    "When using `Tile` methods the `NODATA` cells are converted to either `Int.MinValue` or `Double.NaN` \n",
    "\n",
    "**regardless of underlying cell value**"
   ]
  },
  {
   "cell_type": "code",
   "execution_count": null,
   "metadata": {},
   "outputs": [],
   "source": [
    "val tile5ND = tile16.withNoData(Some(5))"
   ]
  },
  {
   "cell_type": "code",
   "execution_count": null,
   "metadata": {},
   "outputs": [],
   "source": [
    "Text(tile5ND.asciiDraw())"
   ]
  },
  {
   "cell_type": "code",
   "execution_count": null,
   "metadata": {},
   "outputs": [],
   "source": [
    "tile5ND.get(0, 1)\n",
    "tile5ND.getDouble(0, 1)"
   ]
  },
  {
   "cell_type": "markdown",
   "metadata": {},
   "source": [
    "Use `isData` and `isNoData` macros to test cell values from `Tile`. \n",
    "\n",
    "They're macros that are valid for both `Int` and `Double` values."
   ]
  },
  {
   "cell_type": "code",
   "execution_count": null,
   "metadata": {},
   "outputs": [],
   "source": [
    "var intCount = 0\n",
    "\n",
    "tile5ND.foreach { v => if (isData(v)) intCount += 1 }"
   ]
  },
  {
   "cell_type": "code",
   "execution_count": null,
   "metadata": {},
   "outputs": [],
   "source": [
    "val tileFND = tileFloat.withNoData(Some(0.5F))"
   ]
  },
  {
   "cell_type": "code",
   "execution_count": null,
   "metadata": {},
   "outputs": [],
   "source": [
    "Text(tileFND.asciiDrawDouble(1))"
   ]
  },
  {
   "cell_type": "code",
   "execution_count": null,
   "metadata": {},
   "outputs": [],
   "source": [
    "var floatCount = 0\n",
    "\n",
    "tileFND.foreach { v => if (isNoData(v)) floatCount += 1 }"
   ]
  },
  {
   "cell_type": "markdown",
   "metadata": {},
   "source": [
    "### Actual way to use Tile\n",
    "\n",
    "In practice you almost never want to use `Tile.get`, there are better ways to do work"
   ]
  },
  {
   "cell_type": "code",
   "execution_count": null,
   "metadata": {
    "scrolled": true
   },
   "outputs": [],
   "source": [
    "// immutability!\n",
    "tile5ND.map { v => if(isData(v)) v + 1 else v }.asciiDraw()\n",
    "// Hey, value at index 5 changed ..."
   ]
  },
  {
   "cell_type": "code",
   "execution_count": null,
   "metadata": {},
   "outputs": [],
   "source": [
    "def f2(left: Int, right: Int): Int = left + right\n",
    "\n",
    "tile16.combine(tileFloat) { f2 }"
   ]
  },
  {
   "cell_type": "code",
   "execution_count": null,
   "metadata": {},
   "outputs": [],
   "source": [
    "def funct(arg1: Int, arg2: Int): Int = 2\n",
    "\n",
    "\n",
    "def functCurried(tileFloat: String)(funct: (Double, Double) => Double): Int = 2\n",
    "\n",
    "funct(2, 3)\n",
    "\n",
    "val test = functCurried(\"\") _"
   ]
  },
  {
   "cell_type": "code",
   "execution_count": null,
   "metadata": {},
   "outputs": [],
   "source": [
    "tile16.combineDouble(tileFloat) { (a: Double, b: Double) => a + b }"
   ]
  },
  {
   "cell_type": "code",
   "execution_count": null,
   "metadata": {},
   "outputs": [],
   "source": [
    "tile16 * tileFloat // hey, that's safe!"
   ]
  },
  {
   "cell_type": "markdown",
   "metadata": {},
   "source": [
    "### Mutable Tiles"
   ]
  },
  {
   "cell_type": "code",
   "execution_count": null,
   "metadata": {},
   "outputs": [],
   "source": [
    "val mut = tile16.mutable\n",
    "mut.set(0, 0, 123)\n",
    "mut.set(0, 2, 123)"
   ]
  },
  {
   "cell_type": "code",
   "execution_count": null,
   "metadata": {},
   "outputs": [],
   "source": [
    "mut"
   ]
  },
  {
   "cell_type": "markdown",
   "metadata": {},
   "source": [
    "## Rasters\n",
    "\n",
    "[`Raster`](https://github.com/locationtech/geotrellis/blob/2f8348ac299d889282b7e6d379eed4696ece1dd7/raster/src/main/scala/geotrellis/raster/Raster.scala#L63) is a composition of `Tile` and `Extent`, placing the tile pixels on a map.\n",
    "\n",
    "It's up to you to know what projection that raster is in, it does not track `CRS`."
   ]
  },
  {
   "cell_type": "code",
   "execution_count": null,
   "metadata": {},
   "outputs": [],
   "source": [
    "import geotrellis.vector._\n",
    "\n",
    "val raster16 = Raster(tile16, Extent(0, 0, 2, 2))"
   ]
  },
  {
   "cell_type": "code",
   "execution_count": null,
   "metadata": {},
   "outputs": [],
   "source": [
    "raster16.cellSize\n"
   ]
  },
  {
   "cell_type": "markdown",
   "metadata": {},
   "source": [
    "### RasterExtent\n",
    "\n",
    "`Raster.rasterExtent` helps you translate between pixel space and map space"
   ]
  },
  {
   "cell_type": "code",
   "execution_count": null,
   "metadata": {},
   "outputs": [],
   "source": [
    "val re = raster16.rasterExtent"
   ]
  },
  {
   "cell_type": "code",
   "execution_count": null,
   "metadata": {},
   "outputs": [],
   "source": [
    "re.gridToMap(0, 0)\n",
    "re.gridToMap(0, 3)"
   ]
  },
  {
   "cell_type": "code",
   "execution_count": null,
   "metadata": {
    "scrolled": true
   },
   "outputs": [],
   "source": [
    "re.mapToGrid(0.3, 0.3) // closest cell"
   ]
  },
  {
   "cell_type": "markdown",
   "metadata": {},
   "source": [
    "You can even rasterizer a geometry:\n",
    "- http://127.0.0.1:8888/notebooks/work/implicit-methods.ipynb\n",
    "\n",
    "- [`RasterExtentRasterizeMethods`](https://github.com/locationtech/geotrellis/blob/master/raster/src/main/scala/geotrellis/raster/rasterize/RasterExtentRasterizeMethods.scala)\n",
    "- available via [implicit method extension](https://github.com/locationtech/geotrellis/blob/1a2ea84f7a15d790a13a75ede0fecee351ac4a7e/raster/src/main/scala/geotrellis/raster/rasterize/Implicits.scala#L26)"
   ]
  },
  {
   "cell_type": "code",
   "execution_count": null,
   "metadata": {},
   "outputs": [],
   "source": [
    "val line = LineString(List(Point(0,0), Point(2, 2)))\n",
    "\n",
    "re.foreach(line){ (col, row) => println(s\"$col, $row\") }"
   ]
  }
 ],
 "metadata": {
  "kernelspec": {
   "display_name": "Scala 2.12",
   "language": "scala",
   "name": "scala212"
  },
  "language_info": {
   "codemirror_mode": "text/x-scala",
   "file_extension": ".sc",
   "mimetype": "text/x-scala",
   "name": "scala",
   "nbconvert_exporter": "script",
   "version": "2.12.12"
  }
 },
 "nbformat": 4,
 "nbformat_minor": 4
}
