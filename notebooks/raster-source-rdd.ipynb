{
 "cells": [
  {
   "cell_type": "markdown",
   "metadata": {},
   "source": [
    "<img width=\"400\" alt=\"Spark\" src=\"https://user-images.githubusercontent.com/4929546/108286213-b0119300-7156-11eb-8583-572efb16a4f1.png\">\n",
    "\n",
    "### Spark Context\n",
    "\n",
    "![sparkcontext](https://user-images.githubusercontent.com/4929546/108286172-9a9c6900-7156-11eb-8705-737c0691646e.png)\n",
    "\n",
    "### RDD\n",
    "\n",
    "<img width=\"544\" alt=\"rdd\" src=\"https://user-images.githubusercontent.com/4929546/108286915-f0bddc00-7157-11eb-8269-a9137c2374ce.png\">\n",
    "\n",
    "\n"
   ]
  },
  {
   "cell_type": "code",
   "execution_count": null,
   "metadata": {
    "scrolled": true,
    "tags": []
   },
   "outputs": [],
   "source": [
    "import $ivy.`org.apache.spark::spark-sql:2.4.4`\n",
    "import $ivy.`org.locationtech.geotrellis::geotrellis-spark:3.5.2`\n",
    "\n",
    "import geotrellis.layer._\n",
    "import geotrellis.raster.geotiff.GeoTiffRasterSource\n",
    "import geotrellis.spark._\n",
    "import org.apache.spark._\n",
    "import org.apache.log4j.{Level, Logger}\n",
    "\n",
    "Logger.getLogger(\"org\").setLevel(Level.OFF)"
   ]
  },
  {
   "cell_type": "code",
   "execution_count": null,
   "metadata": {},
   "outputs": [],
   "source": [
    "val data = ('a' to 'z').map { c => (c, scala.util.Random.nextInt) }"
   ]
  },
  {
   "cell_type": "code",
   "execution_count": null,
   "metadata": {
    "scrolled": true
   },
   "outputs": [],
   "source": [
    "import org.apache.spark.sql._\n",
    "\n",
    "val spark = {\n",
    "  NotebookSparkSession.builder()\n",
    "    .master(\"local[*]\")\n",
    "    .getOrCreate()\n",
    "}"
   ]
  },
  {
   "cell_type": "code",
   "execution_count": null,
   "metadata": {},
   "outputs": [],
   "source": [
    "implicit val sparkContext = spark.sparkContext"
   ]
  },
  {
   "cell_type": "code",
   "execution_count": null,
   "metadata": {},
   "outputs": [],
   "source": [
    "val uri = \"https://geotrellis-demo.s3.amazonaws.com/cogs/harrisburg-pa/elevation.tif\"\n",
    "val source = GeoTiffRasterSource(uri)"
   ]
  },
  {
   "cell_type": "code",
   "execution_count": null,
   "metadata": {},
   "outputs": [],
   "source": [
    "val summary = RasterSummary.fromSeq(List(source))"
   ]
  },
  {
   "cell_type": "code",
   "execution_count": null,
   "metadata": {},
   "outputs": [],
   "source": [
    "val layout = summary.layoutDefinition(FloatingLayoutScheme(256))"
   ]
  },
  {
   "cell_type": "code",
   "execution_count": null,
   "metadata": {},
   "outputs": [],
   "source": [
    "val layer = RasterSourceRDD.spatial(source, layout)"
   ]
  },
  {
   "cell_type": "code",
   "execution_count": null,
   "metadata": {},
   "outputs": [],
   "source": []
  }
 ],
 "metadata": {
  "kernelspec": {
   "display_name": "Scala 2.12",
   "language": "scala",
   "name": "scala212"
  },
  "language_info": {
   "codemirror_mode": "text/x-scala",
   "file_extension": ".sc",
   "mimetype": "text/x-scala",
   "name": "scala",
   "nbconvert_exporter": "script",
   "version": "2.12.12"
  }
 },
 "nbformat": 4,
 "nbformat_minor": 2
}
