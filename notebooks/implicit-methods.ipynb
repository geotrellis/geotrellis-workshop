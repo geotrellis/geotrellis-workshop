{
 "cells": [
  {
   "cell_type": "markdown",
   "metadata": {},
   "source": [
    "## Implicit Methods\n",
    "\n",
    "Implicit method extension is heavily used in Scala and GeoTrellis to add methods to instances based on their type signature. Consider a `Box`:"
   ]
  },
  {
   "cell_type": "code",
   "execution_count": 1,
   "metadata": {
    "scrolled": true
   },
   "outputs": [
    {
     "data": {
      "text/plain": [
       "defined \u001b[32mclass\u001b[39m \u001b[36mBox\u001b[39m\n",
       "\u001b[36mbox\u001b[39m: \u001b[32mBox\u001b[39m = \u001b[33mBox\u001b[39m(\u001b[32m36\u001b[39m)"
      ]
     },
     "execution_count": 1,
     "metadata": {},
     "output_type": "execute_result"
    }
   ],
   "source": [
    "case class Box(x: Int)\n",
    "\n",
    "val box = Box(36)"
   ]
  },
  {
   "cell_type": "markdown",
   "metadata": {},
   "source": [
    "Lets say we can't change it but it would be helpful to be able to '.render' it"
   ]
  },
  {
   "cell_type": "code",
   "execution_count": 1,
   "metadata": {},
   "outputs": [
    {
     "name": "stderr",
     "output_type": "stream",
     "text": [
      "cmd1.sc:1: value render is not a member of cmd1.this.cmd0.Box\n",
      "val res1 = box.render\n",
      "               ^Compilation Failed"
     ]
    },
    {
     "ename": "",
     "evalue": "",
     "output_type": "error",
     "traceback": [
      "Compilation Failed"
     ]
    }
   ],
   "source": [
    "box.render"
   ]
  },
  {
   "cell_type": "code",
   "execution_count": 2,
   "metadata": {},
   "outputs": [
    {
     "data": {
      "text/plain": [
       "defined \u001b[32mclass\u001b[39m \u001b[36mwithRender\u001b[39m"
      ]
     },
     "execution_count": 2,
     "metadata": {},
     "output_type": "execute_result"
    }
   ],
   "source": [
    "implicit class withRender(box: Box) {\n",
    "    def render: String = s\"Box with ${box.x}\"\n",
    "}"
   ]
  },
  {
   "cell_type": "code",
   "execution_count": 4,
   "metadata": {},
   "outputs": [
    {
     "data": {
      "text/plain": [
       "\u001b[36mres3\u001b[39m: \u001b[32mString\u001b[39m = \u001b[32m\"Box with 36\"\u001b[39m"
      ]
     },
     "execution_count": 4,
     "metadata": {},
     "output_type": "execute_result"
    }
   ],
   "source": [
    "// withRender(box).render\n",
    "box.render"
   ]
  },
  {
   "cell_type": "markdown",
   "metadata": {},
   "source": [
    "Sometimes you will see it split in two stages:"
   ]
  },
  {
   "cell_type": "code",
   "execution_count": 7,
   "metadata": {},
   "outputs": [
    {
     "data": {
      "text/plain": [
       "defined \u001b[32mclass\u001b[39m \u001b[36mwithDouble\u001b[39m\n",
       "defined \u001b[32mfunction\u001b[39m \u001b[36mboxWithDouble\u001b[39m\n",
       "\u001b[36mtest\u001b[39m: \u001b[32mwithDouble\u001b[39m = ammonite.$sess.cmd6$Helper$withDouble@1b7d8830"
      ]
     },
     "execution_count": 7,
     "metadata": {},
     "output_type": "execute_result"
    }
   ],
   "source": [
    "class withDouble(b: Box) { \n",
    "    def double: Box = Box(b.x * 2)\n",
    "}\n",
    "\n",
    "implicit def boxWithDouble(b: Box) = new withDouble(b)\n",
    "\n",
    "val test: withDouble = box"
   ]
  },
  {
   "cell_type": "code",
   "execution_count": 6,
   "metadata": {},
   "outputs": [
    {
     "data": {
      "text/plain": [
       "\u001b[36mres5\u001b[39m: \u001b[32mBox\u001b[39m = \u001b[33mBox\u001b[39m(\u001b[32m72\u001b[39m)"
      ]
     },
     "execution_count": 6,
     "metadata": {},
     "output_type": "execute_result"
    }
   ],
   "source": [
    "box.double"
   ]
  },
  {
   "cell_type": "markdown",
   "metadata": {},
   "source": [
    "## GeoTrellis Method Extensions\n",
    "\n",
    "GeoTrellis mostly uses [`MethodExtensions`](https://github.com/locationtech/geotrellis/blob/master/util/src/main/scala/geotrellis/util/MethodExtensions.scala) trait to make such classes easier to discover.\n",
    "\n",
    "For instance [`PngRenderMethods`](https://github.com/locationtech/geotrellis/blob/master/raster/src/main/scala/geotrellis/raster/render/PngRenderMethods.scala#L24) \n",
    "\n",
    "- are injected from [`geotrellis.raster.render.Implicits`](https://github.com/locationtech/geotrellis/blob/master/raster/src/main/scala/geotrellis/raster/render/Implicits.scala#L39)\n",
    "- which is included in [`geotrellis.raster.Implicits`](https://github.com/locationtech/geotrellis/blob/master/raster/src/main/scala/geotrellis/raster/Implicits.scala#L44)\n",
    "- which is included in [`geotrellis.raster.package`](https://github.com/locationtech/geotrellis/blob/master/raster/src/main/scala/geotrellis/raster/package.scala#L23) objected\n",
    "- whose content is brought into scope when you `import geotrellis.raster._`"
   ]
  }
 ],
 "metadata": {
  "kernelspec": {
   "display_name": "Scala 2.12",
   "language": "scala",
   "name": "scala212"
  },
  "language_info": {
   "codemirror_mode": "text/x-scala",
   "file_extension": ".sc",
   "mimetype": "text/x-scala",
   "name": "scala",
   "nbconvert_exporter": "script",
   "version": "2.12.12"
  }
 },
 "nbformat": 4,
 "nbformat_minor": 4
}
