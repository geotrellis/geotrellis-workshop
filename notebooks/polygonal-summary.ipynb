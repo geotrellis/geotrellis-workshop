{
 "cells": [
  {
   "cell_type": "code",
   "execution_count": 1,
   "metadata": {},
   "outputs": [
    {
     "data": {
      "text/plain": [
       "\u001b[32mimport \u001b[39m\u001b[36m$ivy.$                                                     \n",
       "\u001b[39m\n",
       "\u001b[32mimport \u001b[39m\u001b[36m$ivy.$                              \u001b[39m"
      ]
     },
     "execution_count": 1,
     "metadata": {},
     "output_type": "execute_result"
    }
   ],
   "source": [
    "import $ivy.`org.locationtech.geotrellis::geotrellis-raster:3.5.2`\n",
    "import $ivy.`org.slf4j:slf4j-simple:1.7.30`"
   ]
  },
  {
   "cell_type": "code",
   "execution_count": 2,
   "metadata": {},
   "outputs": [
    {
     "data": {
      "text/plain": [
       "\u001b[32mimport \u001b[39m\u001b[36mgeotrellis.vector._\n",
       "\u001b[39m\n",
       "\u001b[32mimport \u001b[39m\u001b[36mgeotrellis.raster._\n",
       "\u001b[39m\n",
       "\u001b[32mimport \u001b[39m\u001b[36mgeotrellis.raster.geotiff.GeoTiffRasterSource\u001b[39m"
      ]
     },
     "execution_count": 2,
     "metadata": {},
     "output_type": "execute_result"
    }
   ],
   "source": [
    "import geotrellis.vector._\n",
    "import geotrellis.raster._\n",
    "import geotrellis.raster.geotiff.GeoTiffRasterSource"
   ]
  },
  {
   "cell_type": "code",
   "execution_count": 3,
   "metadata": {
    "scrolled": true
   },
   "outputs": [
    {
     "data": {
      "text/plain": [
       "\u001b[36muri\u001b[39m: \u001b[32mString\u001b[39m = \u001b[32m\"https://geotrellis-demo.s3.amazonaws.com/cogs/harrisburg-pa/elevation.tif\"\u001b[39m\n",
       "\u001b[36mrs\u001b[39m: \u001b[32mGeoTiffRasterSource\u001b[39m = GeoTiffRasterSource(https://geotrellis-demo.s3.amazonaws.com/cogs/harrisburg-pa/elevation.tif)"
      ]
     },
     "execution_count": 3,
     "metadata": {},
     "output_type": "execute_result"
    }
   ],
   "source": [
    "val uri = \"https://geotrellis-demo.s3.amazonaws.com/cogs/harrisburg-pa/elevation.tif\"\n",
    "val rs = GeoTiffRasterSource(uri)"
   ]
  },
  {
   "cell_type": "code",
   "execution_count": 4,
   "metadata": {},
   "outputs": [
    {
     "data": {
      "text/plain": [
       "\u001b[36mraster\u001b[39m: \u001b[32mRaster\u001b[39m[\u001b[32mMultibandTile\u001b[39m] = \u001b[33mRaster\u001b[39m(\n",
       "  ArrayMultibandTile(4392,4196,1,uint8ud255),\n",
       "  \u001b[33mExtent\u001b[39m(\u001b[32m210209.2154\u001b[39m, \u001b[32m4398599.0319\u001b[39m, \u001b[32m341969.2154\u001b[39m, \u001b[32m4524479.0319\u001b[39m)\n",
       ")"
      ]
     },
     "execution_count": 4,
     "metadata": {},
     "output_type": "execute_result"
    }
   ],
   "source": [
    "val raster = rs.read().get"
   ]
  },
  {
   "cell_type": "code",
   "execution_count": 5,
   "metadata": {},
   "outputs": [
    {
     "data": {
      "text/plain": [
       "\u001b[32mimport \u001b[39m\u001b[36mgeotrellis.proj4.LatLng\n",
       "\n",
       "// Carlisle, PA\n",
       " \u001b[39m\n",
       "\u001b[36mgeom\u001b[39m: \u001b[32mPolygon\u001b[39m = POLYGON ((-77.25414276123047 40.168642443446366, -77.1188735961914 40.168642443446366, -77.1188735961914 40.24939807617368, -77.25414276123047 40.24939807617368, -77.25414276123047 40.168642443446366))\n",
       "\u001b[36mgeomInRsCrs\u001b[39m: \u001b[32mPolygon\u001b[39m = POLYGON ((308052.8180692366 4448911.388956682, 319572.3229983727 4448627.687714231, 319786.4412777133 4457592.130064403, 308280.62292359374 4457875.967085698, 308052.8180692366 4448911.388956682))"
      ]
     },
     "execution_count": 5,
     "metadata": {},
     "output_type": "execute_result"
    }
   ],
   "source": [
    "import geotrellis.proj4.LatLng\n",
    "\n",
    "// Carlisle, PA\n",
    " val geom = Polygon(\n",
    "   LineString(\n",
    "     List(\n",
    "       (-77.25414276123047, 40.168642443446366),\n",
    "       (-77.1188735961914, 40.168642443446366),\n",
    "       (-77.1188735961914, 40.24939807617368),\n",
    "       (-77.25414276123047, 40.24939807617368),\n",
    "       (-77.25414276123047, 40.168642443446366)\n",
    "     )\n",
    "   )\n",
    " )\n",
    " val geomInRsCrs = geom.reproject(LatLng, rs.crs)"
   ]
  },
  {
   "cell_type": "code",
   "execution_count": 6,
   "metadata": {},
   "outputs": [
    {
     "data": {
      "text/plain": [
       "\u001b[36mraster0\u001b[39m: \u001b[32mRaster\u001b[39m[\u001b[32mTile\u001b[39m] = \u001b[33mRaster\u001b[39m(\n",
       "  \u001b[33mUByteUserDefinedNoDataArrayTile\u001b[39m(\n",
       "    \u001b[33mArray\u001b[39m(\n",
       "      \u001b[32m88\u001b[39m,\n",
       "      \u001b[32m59\u001b[39m,\n",
       "      \u001b[32m56\u001b[39m,\n",
       "      \u001b[32m76\u001b[39m,\n",
       "      \u001b[32m61\u001b[39m,\n",
       "      \u001b[32m46\u001b[39m,\n",
       "      \u001b[32m18\u001b[39m,\n",
       "      \u001b[32m8\u001b[39m,\n",
       "      \u001b[32m11\u001b[39m,\n",
       "      \u001b[32m14\u001b[39m,\n",
       "      \u001b[32m16\u001b[39m,\n",
       "      \u001b[32m23\u001b[39m,\n",
       "      \u001b[32m35\u001b[39m,\n",
       "      \u001b[32m32\u001b[39m,\n",
       "      \u001b[32m37\u001b[39m,\n",
       "      \u001b[32m37\u001b[39m,\n",
       "      \u001b[32m41\u001b[39m,\n",
       "      \u001b[32m59\u001b[39m,\n",
       "      \u001b[32m78\u001b[39m,\n",
       "      \u001b[32m74\u001b[39m,\n",
       "      \u001b[32m63\u001b[39m,\n",
       "      \u001b[32m63\u001b[39m,\n",
       "      \u001b[32m59\u001b[39m,\n",
       "      \u001b[32m59\u001b[39m,\n",
       "      \u001b[32m85\u001b[39m,\n",
       "      \u001b[32m76\u001b[39m,\n",
       "      \u001b[32m59\u001b[39m,\n",
       "      \u001b[32m54\u001b[39m,\n",
       "      \u001b[32m56\u001b[39m,\n",
       "      \u001b[32m59\u001b[39m,\n",
       "      \u001b[32m49\u001b[39m,\n",
       "      \u001b[32m29\u001b[39m,\n",
       "      \u001b[32m20\u001b[39m,\n",
       "      \u001b[32m18\u001b[39m,\n",
       "      \u001b[32m19\u001b[39m,\n",
       "      \u001b[32m23\u001b[39m,\n",
       "..."
      ]
     },
     "execution_count": 6,
     "metadata": {},
     "output_type": "execute_result"
    }
   ],
   "source": [
    "val raster0 = Raster(raster.tile.band(0), rs.extent)"
   ]
  },
  {
   "cell_type": "code",
   "execution_count": 7,
   "metadata": {},
   "outputs": [
    {
     "data": {
      "text/plain": [
       "\u001b[32mimport \u001b[39m\u001b[36mgeotrellis.raster.summary.polygonal._\n",
       "\u001b[39m\n",
       "\u001b[32mimport \u001b[39m\u001b[36mgeotrellis.raster.summary.polygonal.visitors.FastMapHistogramVisitor\n",
       "\n",
       "\u001b[39m\n",
       "\u001b[36mresult\u001b[39m: \u001b[32mPolygonalSummaryResult\u001b[39m[\u001b[32mFastMapHistogram\u001b[39m] = \u001b[33mSummary\u001b[39m(\n",
       "  geotrellis.raster.histogram.FastMapHistogram@5d70d0e6\n",
       ")"
      ]
     },
     "execution_count": 7,
     "metadata": {},
     "output_type": "execute_result"
    }
   ],
   "source": [
    "import geotrellis.raster.summary.polygonal._\n",
    "import geotrellis.raster.summary.polygonal.visitors.FastMapHistogramVisitor\n",
    "\n",
    "val result = raster0.polygonalSummary(geomInRsCrs, FastMapHistogramVisitor)"
   ]
  },
  {
   "cell_type": "code",
   "execution_count": 8,
   "metadata": {},
   "outputs": [
    {
     "data": {
      "text/plain": [
       "\u001b[36mhistogram\u001b[39m: \u001b[32mFastMapHistogram\u001b[39m = geotrellis.raster.histogram.FastMapHistogram@5d70d0e6\n",
       "\u001b[36mres7_1\u001b[39m: \u001b[32mOption\u001b[39m[\u001b[32mgeotrellis\u001b[39m.\u001b[32mraster\u001b[39m.\u001b[32msummary\u001b[39m.\u001b[32mStatistics\u001b[39m[\u001b[32mInt\u001b[39m]] = \u001b[33mSome\u001b[39m(\n",
       "  \u001b[33mStatistics\u001b[39m(\u001b[32m115446L\u001b[39m, \u001b[32m72.44622594113267\u001b[39m, \u001b[32m75\u001b[39m, \u001b[32m83\u001b[39m, \u001b[32m16.11246961414366\u001b[39m, \u001b[32m7\u001b[39m, \u001b[32m99\u001b[39m)\n",
       ")"
      ]
     },
     "execution_count": 8,
     "metadata": {},
     "output_type": "execute_result"
    }
   ],
   "source": [
    "val histogram = result.toOption.get\n",
    "histogram.statistics"
   ]
  }
 ],
 "metadata": {
  "kernelspec": {
   "display_name": "Scala 2.12",
   "language": "scala",
   "name": "scala212"
  },
  "language_info": {
   "codemirror_mode": "text/x-scala",
   "file_extension": ".sc",
   "mimetype": "text/x-scala",
   "name": "scala",
   "nbconvert_exporter": "script",
   "version": "2.12.12"
  }
 },
 "nbformat": 4,
 "nbformat_minor": 2
}
