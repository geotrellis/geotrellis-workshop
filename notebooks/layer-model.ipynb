{
 "cells": [
  {
   "cell_type": "markdown",
   "metadata": {},
   "source": [
    "# Layer Model\n",
    "\n",
    "Follows [this section](https://geotrellis.github.io/geotrellis-workshop/docs/layer-model) of the docs."
   ]
  },
  {
   "cell_type": "code",
   "execution_count": 1,
   "metadata": {},
   "outputs": [
    {
     "name": "stderr",
     "output_type": "stream",
     "text": [
      "Downloading https://repo1.maven.org/maven2/org/locationtech/geotrellis/geotrellis-layer_2.12/3.5.2/geotrellis-layer_2.12-3.5.2.pom\n",
      "Downloaded https://repo1.maven.org/maven2/org/locationtech/geotrellis/geotrellis-layer_2.12/3.5.2/geotrellis-layer_2.12-3.5.2.pom\n",
      "Downloading https://repo1.maven.org/maven2/org/apache/avro/avro/1.7.7/avro-1.7.7.pom\n",
      "Downloading https://repo1.maven.org/maven2/org/scalactic/scalactic_2.12/3.2.1/scalactic_2.12-3.2.1.pom\n",
      "Downloading https://repo1.maven.org/maven2/jp/ne/opt/chronoscala_2.12/0.3.2/chronoscala_2.12-0.3.2.pom\n",
      "Downloaded https://repo1.maven.org/maven2/org/apache/avro/avro/1.7.7/avro-1.7.7.pom\n",
      "Downloaded https://repo1.maven.org/maven2/jp/ne/opt/chronoscala_2.12/0.3.2/chronoscala_2.12-0.3.2.pom\n",
      "Downloaded https://repo1.maven.org/maven2/org/scalactic/scalactic_2.12/3.2.1/scalactic_2.12-3.2.1.pom\n",
      "Downloading https://repo1.maven.org/maven2/org/apache/avro/avro-parent/1.7.7/avro-parent-1.7.7.pom\n",
      "Downloaded https://repo1.maven.org/maven2/org/apache/avro/avro-parent/1.7.7/avro-parent-1.7.7.pom\n",
      "Downloading https://repo1.maven.org/maven2/org/apache/avro/avro-toplevel/1.7.7/avro-toplevel-1.7.7.pom\n",
      "Downloaded https://repo1.maven.org/maven2/org/apache/avro/avro-toplevel/1.7.7/avro-toplevel-1.7.7.pom\n",
      "Downloading https://repo1.maven.org/maven2/org/apache/apache/10/apache-10.pom\n",
      "Downloaded https://repo1.maven.org/maven2/org/apache/apache/10/apache-10.pom\n",
      "Downloading https://repo1.maven.org/maven2/org/apache/commons/commons-compress/1.4.1/commons-compress-1.4.1.pom\n",
      "Downloading https://repo1.maven.org/maven2/org/xerial/snappy/snappy-java/1.0.5/snappy-java-1.0.5.pom\n",
      "Downloading https://repo1.maven.org/maven2/org/slf4j/slf4j-api/1.6.4/slf4j-api-1.6.4.pom\n",
      "Downloading https://repo1.maven.org/maven2/org/codehaus/jackson/jackson-mapper-asl/1.9.13/jackson-mapper-asl-1.9.13.pom\n",
      "Downloading https://repo1.maven.org/maven2/org/codehaus/jackson/jackson-core-asl/1.9.13/jackson-core-asl-1.9.13.pom\n",
      "Downloading https://repo1.maven.org/maven2/com/thoughtworks/paranamer/paranamer/2.3/paranamer-2.3.pom\n",
      "Downloaded https://repo1.maven.org/maven2/org/codehaus/jackson/jackson-core-asl/1.9.13/jackson-core-asl-1.9.13.pom\n",
      "Downloaded https://repo1.maven.org/maven2/com/thoughtworks/paranamer/paranamer/2.3/paranamer-2.3.pom\n",
      "Downloaded https://repo1.maven.org/maven2/org/apache/commons/commons-compress/1.4.1/commons-compress-1.4.1.pom\n",
      "Downloaded https://repo1.maven.org/maven2/org/slf4j/slf4j-api/1.6.4/slf4j-api-1.6.4.pom\n",
      "Downloaded https://repo1.maven.org/maven2/org/codehaus/jackson/jackson-mapper-asl/1.9.13/jackson-mapper-asl-1.9.13.pom\n",
      "Downloaded https://repo1.maven.org/maven2/org/xerial/snappy/snappy-java/1.0.5/snappy-java-1.0.5.pom\n",
      "Downloading https://repo1.maven.org/maven2/org/slf4j/slf4j-parent/1.6.4/slf4j-parent-1.6.4.pom\n",
      "Downloading https://repo1.maven.org/maven2/org/apache/commons/commons-parent/24/commons-parent-24.pom\n",
      "Downloading https://repo1.maven.org/maven2/com/thoughtworks/paranamer/paranamer-parent/2.3/paranamer-parent-2.3.pom\n",
      "Downloaded https://repo1.maven.org/maven2/org/slf4j/slf4j-parent/1.6.4/slf4j-parent-1.6.4.pom\n",
      "Downloaded https://repo1.maven.org/maven2/com/thoughtworks/paranamer/paranamer-parent/2.3/paranamer-parent-2.3.pom\n",
      "Downloaded https://repo1.maven.org/maven2/org/apache/commons/commons-parent/24/commons-parent-24.pom\n",
      "Downloading https://repo1.maven.org/maven2/org/apache/apache/9/apache-9.pom\n",
      "Downloading https://repo1.maven.org/maven2/org/codehaus/codehaus-parent/1/codehaus-parent-1.pom\n",
      "Downloaded https://repo1.maven.org/maven2/org/apache/apache/9/apache-9.pom\n",
      "Downloaded https://repo1.maven.org/maven2/org/codehaus/codehaus-parent/1/codehaus-parent-1.pom\n",
      "Downloading https://repo1.maven.org/maven2/org/tukaani/xz/1.0/xz-1.0.pom\n",
      "Downloaded https://repo1.maven.org/maven2/org/tukaani/xz/1.0/xz-1.0.pom\n",
      "Downloading https://repo1.maven.org/maven2/org/tukaani/xz/1.0/xz-1.0.jar\n",
      "Downloading https://repo1.maven.org/maven2/org/scalactic/scalactic_2.12/3.2.1/scalactic_2.12-3.2.1-sources.jar\n",
      "Downloading https://repo1.maven.org/maven2/org/locationtech/geotrellis/geotrellis-layer_2.12/3.5.2/geotrellis-layer_2.12-3.5.2.jar\n",
      "Downloading https://repo1.maven.org/maven2/com/thoughtworks/paranamer/paranamer/2.3/paranamer-2.3-sources.jar\n",
      "Downloading https://repo1.maven.org/maven2/org/tukaani/xz/1.0/xz-1.0-sources.jar\n",
      "Downloaded https://repo1.maven.org/maven2/com/thoughtworks/paranamer/paranamer/2.3/paranamer-2.3-sources.jar\n",
      "Downloading https://repo1.maven.org/maven2/jp/ne/opt/chronoscala_2.12/0.3.2/chronoscala_2.12-0.3.2-sources.jar\n",
      "Downloaded https://repo1.maven.org/maven2/org/tukaani/xz/1.0/xz-1.0.jar\n",
      "Downloading https://repo1.maven.org/maven2/org/xerial/snappy/snappy-java/1.0.5/snappy-java-1.0.5.jar\n",
      "Downloaded https://repo1.maven.org/maven2/jp/ne/opt/chronoscala_2.12/0.3.2/chronoscala_2.12-0.3.2-sources.jar\n",
      "Downloading https://repo1.maven.org/maven2/com/thoughtworks/paranamer/paranamer/2.3/paranamer-2.3.jar\n",
      "Downloaded https://repo1.maven.org/maven2/com/thoughtworks/paranamer/paranamer/2.3/paranamer-2.3.jar\n",
      "Downloaded https://repo1.maven.org/maven2/org/tukaani/xz/1.0/xz-1.0-sources.jar\n",
      "Downloading https://repo1.maven.org/maven2/org/apache/commons/commons-compress/1.4.1/commons-compress-1.4.1.jar\n",
      "Downloaded https://repo1.maven.org/maven2/org/scalactic/scalactic_2.12/3.2.1/scalactic_2.12-3.2.1-sources.jar\n",
      "Downloading https://repo1.maven.org/maven2/org/scalactic/scalactic_2.12/3.2.1/scalactic_2.12-3.2.1.jar\n",
      "Downloading https://repo1.maven.org/maven2/org/codehaus/jackson/jackson-mapper-asl/1.9.13/jackson-mapper-asl-1.9.13.jar\n",
      "Downloading https://repo1.maven.org/maven2/org/apache/commons/commons-compress/1.4.1/commons-compress-1.4.1-sources.jar\n",
      "Downloaded https://repo1.maven.org/maven2/org/apache/commons/commons-compress/1.4.1/commons-compress-1.4.1.jar\n",
      "Downloading https://repo1.maven.org/maven2/org/apache/avro/avro/1.7.7/avro-1.7.7-sources.jar\n",
      "Downloaded https://repo1.maven.org/maven2/org/locationtech/geotrellis/geotrellis-layer_2.12/3.5.2/geotrellis-layer_2.12-3.5.2.jar\n",
      "Downloading https://repo1.maven.org/maven2/org/apache/avro/avro/1.7.7/avro-1.7.7.jar\n",
      "Downloaded https://repo1.maven.org/maven2/org/apache/commons/commons-compress/1.4.1/commons-compress-1.4.1-sources.jar\n",
      "Downloading https://repo1.maven.org/maven2/org/locationtech/geotrellis/geotrellis-layer_2.12/3.5.2/geotrellis-layer_2.12-3.5.2-sources.jar\n",
      "Downloaded https://repo1.maven.org/maven2/org/apache/avro/avro/1.7.7/avro-1.7.7-sources.jar\n",
      "Downloading https://repo1.maven.org/maven2/org/codehaus/jackson/jackson-core-asl/1.9.13/jackson-core-asl-1.9.13.jar\n",
      "Downloaded https://repo1.maven.org/maven2/org/locationtech/geotrellis/geotrellis-layer_2.12/3.5.2/geotrellis-layer_2.12-3.5.2-sources.jar\n",
      "Downloading https://repo1.maven.org/maven2/org/codehaus/jackson/jackson-core-asl/1.9.13/jackson-core-asl-1.9.13-sources.jar\n",
      "Downloaded https://repo1.maven.org/maven2/org/codehaus/jackson/jackson-core-asl/1.9.13/jackson-core-asl-1.9.13.jar\n",
      "Downloading https://repo1.maven.org/maven2/org/codehaus/jackson/jackson-mapper-asl/1.9.13/jackson-mapper-asl-1.9.13-sources.jar\n",
      "Downloaded https://repo1.maven.org/maven2/org/apache/avro/avro/1.7.7/avro-1.7.7.jar\n",
      "Downloaded https://repo1.maven.org/maven2/org/codehaus/jackson/jackson-core-asl/1.9.13/jackson-core-asl-1.9.13-sources.jar\n",
      "Downloading https://repo1.maven.org/maven2/jp/ne/opt/chronoscala_2.12/0.3.2/chronoscala_2.12-0.3.2.jar\n",
      "Downloaded https://repo1.maven.org/maven2/jp/ne/opt/chronoscala_2.12/0.3.2/chronoscala_2.12-0.3.2.jar\n",
      "Downloading https://repo1.maven.org/maven2/org/xerial/snappy/snappy-java/1.0.5/snappy-java-1.0.5-sources.jar\n",
      "Downloaded https://repo1.maven.org/maven2/org/codehaus/jackson/jackson-mapper-asl/1.9.13/jackson-mapper-asl-1.9.13.jar\n",
      "Downloaded https://repo1.maven.org/maven2/org/xerial/snappy/snappy-java/1.0.5/snappy-java-1.0.5.jar\n",
      "Downloaded https://repo1.maven.org/maven2/org/codehaus/jackson/jackson-mapper-asl/1.9.13/jackson-mapper-asl-1.9.13-sources.jar\n",
      "Downloaded https://repo1.maven.org/maven2/org/xerial/snappy/snappy-java/1.0.5/snappy-java-1.0.5-sources.jar\n",
      "Downloaded https://repo1.maven.org/maven2/org/scalactic/scalactic_2.12/3.2.1/scalactic_2.12-3.2.1.jar\n"
     ]
    },
    {
     "data": {
      "text/plain": [
       "\u001b[32mimport \u001b[39m\u001b[36m$ivy.$                                                     \n",
       "\u001b[39m\n",
       "\u001b[32mimport \u001b[39m\u001b[36m$ivy.$                                                    \n",
       "\u001b[39m\n",
       "\u001b[32mimport \u001b[39m\u001b[36m$ivy.$                              \n",
       "\u001b[39m\n",
       "\u001b[32mimport \u001b[39m\u001b[36mgeotrellis.raster._\n",
       "\u001b[39m\n",
       "\u001b[32mimport \u001b[39m\u001b[36mgeotrellis.vector._\u001b[39m"
      ]
     },
     "execution_count": 1,
     "metadata": {},
     "output_type": "execute_result"
    }
   ],
   "source": [
    "import $ivy.`org.locationtech.geotrellis::geotrellis-raster:3.5.2`\n",
    "import $ivy.`org.locationtech.geotrellis::geotrellis-layer:3.5.2`\n",
    "import $ivy.`org.slf4j:slf4j-simple:1.7.30`\n",
    "import geotrellis.raster._\n",
    "import geotrellis.vector._"
   ]
  },
  {
   "cell_type": "code",
   "execution_count": 2,
   "metadata": {},
   "outputs": [
    {
     "data": {
      "text/plain": [
       "\u001b[32mimport \u001b[39m\u001b[36mgeotrellis.layer.{ LayoutDefinition, SpatialKey }\n",
       "\u001b[39m\n",
       "\u001b[32mimport \u001b[39m\u001b[36mgeotrellis.raster.GridExtent\n",
       "\u001b[39m\n",
       "\u001b[32mimport \u001b[39m\u001b[36mgeotrellis.vector.{ Extent, Point, LineString }\n",
       "\n",
       "\u001b[39m\n",
       "\u001b[36mlayout\u001b[39m: \u001b[32mLayoutDefinition\u001b[39m = \u001b[33mLayoutDefinition\u001b[39m(\n",
       "  \u001b[33mExtent\u001b[39m(\u001b[32m0.0\u001b[39m, \u001b[32m0.0\u001b[39m, \u001b[32m100.0\u001b[39m, \u001b[32m100.0\u001b[39m),\n",
       "  \u001b[33mTileLayout\u001b[39m(\u001b[32m10\u001b[39m, \u001b[32m10\u001b[39m, \u001b[32m10\u001b[39m, \u001b[32m10\u001b[39m)\n",
       ")"
      ]
     },
     "execution_count": 2,
     "metadata": {},
     "output_type": "execute_result"
    }
   ],
   "source": [
    "import geotrellis.layer.{ LayoutDefinition, SpatialKey }\n",
    "import geotrellis.raster.GridExtent\n",
    "import geotrellis.vector.{ Extent, Point, LineString }\n",
    "\n",
    "val layout = LayoutDefinition(\n",
    "  grid = GridExtent(Extent(0, 0, 100, 100), cols = 100, rows = 100),\n",
    "  tileCols = 10, tileRows = 10\n",
    ")"
   ]
  },
  {
   "cell_type": "code",
   "execution_count": 3,
   "metadata": {},
   "outputs": [
    {
     "data": {
      "text/plain": [
       "\u001b[36mres2_0\u001b[39m: \u001b[32mExtent\u001b[39m = \u001b[33mExtent\u001b[39m(\u001b[32m0.0\u001b[39m, \u001b[32m0.0\u001b[39m, \u001b[32m10.0\u001b[39m, \u001b[32m10.0\u001b[39m)\n",
       "\u001b[36mres2_1\u001b[39m: \u001b[32mExtent\u001b[39m = \u001b[33mExtent\u001b[39m(\u001b[32m0.0\u001b[39m, \u001b[32m90.0\u001b[39m, \u001b[32m10.0\u001b[39m, \u001b[32m100.0\u001b[39m)"
      ]
     },
     "execution_count": 3,
     "metadata": {},
     "output_type": "execute_result"
    }
   ],
   "source": [
    "SpatialKey(0, 9).extent(layout)\n",
    "SpatialKey(0, 0).extent(layout)"
   ]
  },
  {
   "cell_type": "code",
   "execution_count": 4,
   "metadata": {},
   "outputs": [
    {
     "data": {
      "text/plain": [
       "\u001b[36mres3\u001b[39m: \u001b[32mSpatialKey\u001b[39m = \u001b[33mSpatialKey\u001b[39m(\u001b[32m0\u001b[39m, \u001b[32m9\u001b[39m)"
      ]
     },
     "execution_count": 4,
     "metadata": {},
     "output_type": "execute_result"
    }
   ],
   "source": [
    "layout.mapTransform.pointToKey(Point(5, 5))"
   ]
  },
  {
   "cell_type": "code",
   "execution_count": 5,
   "metadata": {},
   "outputs": [
    {
     "data": {
      "text/plain": [
       "\u001b[36mres4\u001b[39m: \u001b[32mSpatialKey\u001b[39m = \u001b[33mSpatialKey\u001b[39m(\u001b[32m1\u001b[39m, \u001b[32m8\u001b[39m)"
      ]
     },
     "execution_count": 5,
     "metadata": {},
     "output_type": "execute_result"
    }
   ],
   "source": [
    "layout.mapTransform.pointToKey(Point(15, 15))"
   ]
  },
  {
   "cell_type": "code",
   "execution_count": null,
   "metadata": {},
   "outputs": [],
   "source": [
    "layout.mapTransform.keyToExtent(SpatialKey(1,8))"
   ]
  },
  {
   "cell_type": "code",
   "execution_count": null,
   "metadata": {},
   "outputs": [],
   "source": [
    "layout.mapTransform.extentToBounds(Extent(5, 5, 15, 15))"
   ]
  },
  {
   "cell_type": "code",
   "execution_count": 6,
   "metadata": {},
   "outputs": [
    {
     "data": {
      "text/plain": [
       "\u001b[36mres5\u001b[39m: \u001b[32mSet\u001b[39m[\u001b[32mSpatialKey\u001b[39m] = \u001b[33mSet\u001b[39m(\n",
       "  \u001b[33mSpatialKey\u001b[39m(\u001b[32m2\u001b[39m, \u001b[32m9\u001b[39m),\n",
       "  \u001b[33mSpatialKey\u001b[39m(\u001b[32m1\u001b[39m, \u001b[32m9\u001b[39m),\n",
       "  \u001b[33mSpatialKey\u001b[39m(\u001b[32m0\u001b[39m, \u001b[32m9\u001b[39m)\n",
       ")"
      ]
     },
     "execution_count": 6,
     "metadata": {},
     "output_type": "execute_result"
    }
   ],
   "source": [
    "layout.mapTransform.keysForGeometry(LineString(Point(5,5), Point(25,5)))"
   ]
  },
  {
   "cell_type": "code",
   "execution_count": 7,
   "metadata": {},
   "outputs": [
    {
     "data": {
      "text/plain": [
       "\u001b[32mimport \u001b[39m\u001b[36mgeotrellis.layer.ZoomedLayoutScheme\n",
       "\u001b[39m\n",
       "\u001b[32mimport \u001b[39m\u001b[36mgeotrellis.proj4.WebMercator\n",
       "\n",
       "\u001b[39m\n",
       "\u001b[36mscheme\u001b[39m: \u001b[32mZoomedLayoutScheme\u001b[39m = ZoomedLayoutScheme(WebMercator,256,0.1)"
      ]
     },
     "execution_count": 7,
     "metadata": {},
     "output_type": "execute_result"
    }
   ],
   "source": [
    "import geotrellis.layer.ZoomedLayoutScheme\n",
    "import geotrellis.proj4.WebMercator\n",
    "\n",
    "val scheme = ZoomedLayoutScheme(WebMercator, tileSize = 256)"
   ]
  },
  {
   "cell_type": "code",
   "execution_count": 8,
   "metadata": {},
   "outputs": [
    {
     "data": {
      "text/plain": [
       "\u001b[36mzoom7\u001b[39m: \u001b[32mLayoutDefinition\u001b[39m = \u001b[33mLayoutDefinition\u001b[39m(\n",
       "  \u001b[33mExtent\u001b[39m(\n",
       "    \u001b[32m-2.0037508342789244E7\u001b[39m,\n",
       "    \u001b[32m-2.0037508342789244E7\u001b[39m,\n",
       "    \u001b[32m2.0037508342789244E7\u001b[39m,\n",
       "    \u001b[32m2.0037508342789244E7\u001b[39m\n",
       "  ),\n",
       "  \u001b[33mTileLayout\u001b[39m(\u001b[32m128\u001b[39m, \u001b[32m128\u001b[39m, \u001b[32m256\u001b[39m, \u001b[32m256\u001b[39m)\n",
       ")"
      ]
     },
     "execution_count": 8,
     "metadata": {},
     "output_type": "execute_result"
    }
   ],
   "source": [
    "val zoom7 = scheme.levelForZoom(7).layout"
   ]
  },
  {
   "cell_type": "code",
   "execution_count": 9,
   "metadata": {},
   "outputs": [
    {
     "data": {
      "text/plain": [
       "\u001b[36mzoom8\u001b[39m: \u001b[32mLayoutDefinition\u001b[39m = \u001b[33mLayoutDefinition\u001b[39m(\n",
       "  \u001b[33mExtent\u001b[39m(\n",
       "    \u001b[32m-2.0037508342789244E7\u001b[39m,\n",
       "    \u001b[32m-2.0037508342789244E7\u001b[39m,\n",
       "    \u001b[32m2.0037508342789244E7\u001b[39m,\n",
       "    \u001b[32m2.0037508342789244E7\u001b[39m\n",
       "  ),\n",
       "  \u001b[33mTileLayout\u001b[39m(\u001b[32m256\u001b[39m, \u001b[32m256\u001b[39m, \u001b[32m256\u001b[39m, \u001b[32m256\u001b[39m)\n",
       ")"
      ]
     },
     "execution_count": 9,
     "metadata": {},
     "output_type": "execute_result"
    }
   ],
   "source": [
    "val zoom8 = scheme.levelForZoom(8).layout"
   ]
  },
  {
   "cell_type": "code",
   "execution_count": 10,
   "metadata": {},
   "outputs": [
    {
     "data": {
      "text/plain": [
       "\u001b[36mottawaWM\u001b[39m: \u001b[32mExtent\u001b[39m = \u001b[33mExtent\u001b[39m(\u001b[32m-8621691.0\u001b[39m, \u001b[32m5604373.0\u001b[39m, \u001b[32m-8336168.0\u001b[39m, \u001b[32m5805297.0\u001b[39m)"
      ]
     },
     "execution_count": 10,
     "metadata": {},
     "output_type": "execute_result"
    }
   ],
   "source": [
    "val ottawaWM = Extent(-8621691, 5604373, -8336168, 5805297)"
   ]
  },
  {
   "cell_type": "code",
   "execution_count": 23,
   "metadata": {},
   "outputs": [
    {
     "data": {
      "text/plain": [
       "\u001b[36mtileBounds\u001b[39m: \u001b[32mgeotrellis\u001b[39m.\u001b[32mlayer\u001b[39m.\u001b[32mpackage\u001b[39m.\u001b[32mTileBounds\u001b[39m = \u001b[33mGridBounds\u001b[39m(\u001b[32m36\u001b[39m, \u001b[32m45\u001b[39m, \u001b[32m37\u001b[39m, \u001b[32m46\u001b[39m)"
      ]
     },
     "execution_count": 23,
     "metadata": {},
     "output_type": "execute_result"
    }
   ],
   "source": [
    "val tileBounds = zoom7.mapTransform.extentToBounds(ottawaWM)"
   ]
  },
  {
   "cell_type": "code",
   "execution_count": 21,
   "metadata": {},
   "outputs": [
    {
     "data": {
      "text/plain": [
       "\u001b[36mtileExtent\u001b[39m: \u001b[32mExtent\u001b[39m = \u001b[33mExtent\u001b[39m(\n",
       "  \u001b[32m-8766409.899970295\u001b[39m,\n",
       "  \u001b[32m5322463.153553393\u001b[39m,\n",
       "  \u001b[32m-8140237.7642581295\u001b[39m,\n",
       "  \u001b[32m5948635.289265556\u001b[39m\n",
       ")"
      ]
     },
     "execution_count": 21,
     "metadata": {},
     "output_type": "execute_result"
    }
   ],
   "source": [
    "val tileExtent = zoom7.mapTransform.boundsToExtent(tileBounds)"
   ]
  },
  {
   "cell_type": "code",
   "execution_count": 24,
   "metadata": {},
   "outputs": [
    {
     "data": {
      "text/plain": [
       "\u001b[36mres23_0\u001b[39m: \u001b[32mBoolean\u001b[39m = true\n",
       "\u001b[36mres23_1\u001b[39m: \u001b[32mBoolean\u001b[39m = false"
      ]
     },
     "execution_count": 24,
     "metadata": {},
     "output_type": "execute_result"
    }
   ],
   "source": [
    "// Note that this is snapping out extent to closest tile borders\n",
    "tileExtent.contains(ottawaWM)\n",
    "// res9: Boolean = true\n",
    "ottawaWM.contains(tileExtent)\n",
    "// res10: Boolean = false"
   ]
  },
  {
   "cell_type": "code",
   "execution_count": 35,
   "metadata": {},
   "outputs": [
    {
     "name": "stdout",
     "output_type": "stream",
     "text": [
      "key: SpatialKey(64,51)\n"
     ]
    },
    {
     "data": {
      "text/plain": [
       "\u001b[32mimport \u001b[39m\u001b[36mgeotrellis.raster._\n",
       "\u001b[39m\n",
       "\u001b[32mimport \u001b[39m\u001b[36mgeotrellis.raster.geotiff._\n",
       "\u001b[39m\n",
       "\u001b[32mimport \u001b[39m\u001b[36mgeotrellis.layer._\n",
       "\n",
       "\u001b[39m\n",
       "\u001b[36muri1\u001b[39m: \u001b[32mString\u001b[39m = \u001b[32m\"https://geotrellis-workshop.s3.amazonaws.com/landsat/LC81070362015218LGN00_B3.TIF\"\u001b[39m\n",
       "\u001b[36mrs1\u001b[39m: \u001b[32mGeoTiffRasterSource\u001b[39m = GeoTiffRasterSource(https://geotrellis-workshop.s3.amazonaws.com/landsat/LC81070362015218LGN00_B3.TIF)\n",
       "\u001b[36mlts\u001b[39m: \u001b[32mLayoutTileSource\u001b[39m[\u001b[32mSpatialKey\u001b[39m] = geotrellis.layer.LayoutTileSource@5193773b\n",
       "\u001b[36mres34_6\u001b[39m: \u001b[32mSet\u001b[39m[\u001b[32mSpatialKey\u001b[39m] = \u001b[33mSet\u001b[39m(\n",
       "  \u001b[33mSpatialKey\u001b[39m(\u001b[32m64\u001b[39m, \u001b[32m51\u001b[39m),\n",
       "  \u001b[33mSpatialKey\u001b[39m(\u001b[32m65\u001b[39m, \u001b[32m51\u001b[39m),\n",
       "  \u001b[33mSpatialKey\u001b[39m(\u001b[32m65\u001b[39m, \u001b[32m52\u001b[39m),\n",
       "  \u001b[33mSpatialKey\u001b[39m(\u001b[32m64\u001b[39m, \u001b[32m52\u001b[39m)\n",
       ")"
      ]
     },
     "execution_count": 35,
     "metadata": {},
     "output_type": "execute_result"
    }
   ],
   "source": [
    "import geotrellis.raster._\n",
    "import geotrellis.raster.geotiff._\n",
    "import geotrellis.layer._\n",
    "\n",
    "val uri1 = \"https://geotrellis-workshop.s3.amazonaws.com/landsat/LC81070362015218LGN00_B3.TIF\"\n",
    "\n",
    "val rs1 = GeoTiffRasterSource(uri2)\n",
    "\n",
    "val lts = rs1.tileToLayout(zoom7)\n",
    "\n",
    "lts.keys\n",
    "\n",
    "lts.readAll().take(1).foreach { case (key, tile) =>\n",
    "    println(s\"key: ${key}\")\n",
    "    Image(tile.band(0).renderPng())\n",
    "}\n"
   ]
  }
 ],
 "metadata": {
  "kernelspec": {
   "display_name": "Scala 2.12",
   "language": "scala",
   "name": "scala212"
  },
  "language_info": {
   "codemirror_mode": "text/x-scala",
   "file_extension": ".sc",
   "mimetype": "text/x-scala",
   "name": "scala",
   "nbconvert_exporter": "script",
   "version": "2.12.12"
  }
 },
 "nbformat": 4,
 "nbformat_minor": 4
}
