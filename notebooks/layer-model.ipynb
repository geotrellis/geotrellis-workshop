{
 "cells": [
  {
   "cell_type": "markdown",
   "metadata": {},
   "source": [
    "# Layer Model\n",
    "\n",
    "Follows [this section](https://geotrellis.github.io/geotrellis-workshop/docs/layer-model) of the docs."
   ]
  },
  {
   "cell_type": "code",
   "execution_count": null,
   "metadata": {},
   "outputs": [],
   "source": [
    "import $ivy.`org.locationtech.geotrellis::geotrellis-raster:3.5.2`\n",
    "import $ivy.`org.locationtech.geotrellis::geotrellis-layer:3.5.2`\n",
    "import $ivy.`org.slf4j:slf4j-simple:1.7.30`\n",
    "import geotrellis.raster._\n",
    "import geotrellis.vector._"
   ]
  },
  {
   "cell_type": "code",
   "execution_count": null,
   "metadata": {},
   "outputs": [],
   "source": [
    "import geotrellis.layer.{ LayoutDefinition, SpatialKey }\n",
    "import geotrellis.raster.GridExtent\n",
    "import geotrellis.vector.{ Extent, Point, LineString }\n",
    "\n",
    "val layout = LayoutDefinition(\n",
    "  grid = GridExtent(Extent(0, 0, 100, 100), cols = 100, rows = 100),\n",
    "  tileCols = 10, tileRows = 10\n",
    ")"
   ]
  },
  {
   "cell_type": "code",
   "execution_count": null,
   "metadata": {},
   "outputs": [],
   "source": [
    "SpatialKey(0, 9).extent(layout)\n",
    "SpatialKey(0, 0).extent(layout)"
   ]
  },
  {
   "cell_type": "code",
   "execution_count": null,
   "metadata": {},
   "outputs": [],
   "source": [
    "val mp = layout.mapTransform"
   ]
  },
  {
   "cell_type": "code",
   "execution_count": null,
   "metadata": {},
   "outputs": [],
   "source": [
    "mp.keyToExtent(SpatialKey(0, 9))"
   ]
  },
  {
   "cell_type": "code",
   "execution_count": null,
   "metadata": {},
   "outputs": [],
   "source": [
    "layout.mapTransform.pointToKey(Point(5, 5))"
   ]
  },
  {
   "cell_type": "code",
   "execution_count": null,
   "metadata": {},
   "outputs": [],
   "source": [
    "layout.mapTransform.pointToKey(Point(15, 15))"
   ]
  },
  {
   "cell_type": "code",
   "execution_count": null,
   "metadata": {},
   "outputs": [],
   "source": [
    "layout.mapTransform.keyToExtent(SpatialKey(1,8))"
   ]
  },
  {
   "cell_type": "code",
   "execution_count": null,
   "metadata": {},
   "outputs": [],
   "source": [
    "layout.mapTransform.extentToBounds(Extent(5, 5, 15, 15))"
   ]
  },
  {
   "cell_type": "code",
   "execution_count": null,
   "metadata": {},
   "outputs": [],
   "source": [
    "layout.mapTransform.keysForGeometry(LineString(Point(5,5), Point(25,5)))"
   ]
  },
  {
   "cell_type": "code",
   "execution_count": null,
   "metadata": {},
   "outputs": [],
   "source": [
    "import geotrellis.layer.ZoomedLayoutScheme\n",
    "import geotrellis.proj4.WebMercator\n",
    "\n",
    "val scheme = ZoomedLayoutScheme(WebMercator, tileSize = 256)"
   ]
  },
  {
   "cell_type": "code",
   "execution_count": null,
   "metadata": {},
   "outputs": [],
   "source": [
    "val level7 = scheme.levelForZoom(7)\n",
    "\n",
    "val zoom7 = scheme.levelForZoom(7).layout"
   ]
  },
  {
   "cell_type": "code",
   "execution_count": null,
   "metadata": {},
   "outputs": [],
   "source": [
    "val zoom8 = scheme.levelForZoom(8).layout"
   ]
  },
  {
   "cell_type": "code",
   "execution_count": null,
   "metadata": {},
   "outputs": [],
   "source": [
    "val ottawaWM = Extent(-8621691, 5604373, -8336168, 5805297)"
   ]
  },
  {
   "cell_type": "code",
   "execution_count": null,
   "metadata": {},
   "outputs": [],
   "source": [
    "val tileBounds = zoom7.mapTransform.extentToBounds(ottawaWM)"
   ]
  },
  {
   "cell_type": "code",
   "execution_count": null,
   "metadata": {},
   "outputs": [],
   "source": [
    "val tileExtent = zoom7.mapTransform.boundsToExtent(tileBounds)"
   ]
  },
  {
   "cell_type": "code",
   "execution_count": null,
   "metadata": {},
   "outputs": [],
   "source": [
    "// Note that this is snapping out extent to closest tile borders\n",
    "tileExtent.contains(ottawaWM)\n",
    "// res9: Boolean = true\n",
    "ottawaWM.contains(tileExtent)\n",
    "// res10: Boolean = false"
   ]
  },
  {
   "cell_type": "code",
   "execution_count": null,
   "metadata": {},
   "outputs": [],
   "source": [
    "import geotrellis.raster._\n",
    "import geotrellis.raster.geotiff._\n",
    "import geotrellis.layer._\n",
    "\n",
    "val uri1 = \"https://geotrellis-workshop.s3.amazonaws.com/landsat/LC81070362015218LGN00_B3.TIF\"\n",
    "\n",
    "val rs1 = GeoTiffRasterSource(uri1)"
   ]
  },
  {
   "cell_type": "code",
   "execution_count": null,
   "metadata": {
    "scrolled": true
   },
   "outputs": [],
   "source": [
    "val lts = rs1.tileToLayout(zoom7)"
   ]
  },
  {
   "cell_type": "code",
   "execution_count": null,
   "metadata": {
    "scrolled": true
   },
   "outputs": [],
   "source": [
    "lts.keys\n"
   ]
  },
  {
   "cell_type": "code",
   "execution_count": null,
   "metadata": {},
   "outputs": [],
   "source": [
    "Image(lts.read(SpatialKey(64, 51)).get.band(0).renderPng())\n"
   ]
  },
  {
   "cell_type": "code",
   "execution_count": null,
   "metadata": {},
   "outputs": [],
   "source": [
    "import geotrellis.proj4._\n",
    "import cats.implicits._\n",
    "import cats.data._\n",
    "\n",
    "val uri2 = \"https://geotrellis-workshop.s3.amazonaws.com/landsat/LC81070352015218LGN00_B3.TIF\"\n",
    "val rs2 = GeoTiffRasterSource(uri2)"
   ]
  },
  {
   "cell_type": "code",
   "execution_count": null,
   "metadata": {},
   "outputs": [],
   "source": [
    "val mrs = MosaicRasterSource(NonEmptyList(rs2, List(rs1)), WebMercator)\n",
    "\n",
    "rs1.extent\n",
    "rs2.extent\n",
    "\n",
    "rs1.extent.reproject(rs1.crs, WebMercator).combine(rs2.extent.reproject(rs2.crs, WebMercator))\n",
    "\n",
    "mrs.extent"
   ]
  },
  {
   "cell_type": "code",
   "execution_count": null,
   "metadata": {},
   "outputs": [],
   "source": [
    "val extentsIntersection = \n",
    "  rs1.extent.reproject(rs1.crs, WebMercator).intersection(\n",
    "      rs2.extent.reproject(rs2.crs, WebMercator)\n",
    "  ).get"
   ]
  },
  {
   "cell_type": "code",
   "execution_count": null,
   "metadata": {},
   "outputs": [],
   "source": [
    "val mraster = mrs.read(extentsIntersection).get"
   ]
  },
  {
   "cell_type": "code",
   "execution_count": null,
   "metadata": {},
   "outputs": [],
   "source": [
    "// render\n",
    "Image(mraster.tile.band(0).renderPng().bytes)"
   ]
  },
  {
   "cell_type": "code",
   "execution_count": null,
   "metadata": {},
   "outputs": [],
   "source": [
    "import geotrellis.raster.io.geotiff._\n",
    "\n",
    "GeoTiff(mraster, WebMercator).write(\"mraster.tiff\")"
   ]
  },
  {
   "cell_type": "code",
   "execution_count": null,
   "metadata": {},
   "outputs": [],
   "source": [
    "// Works only with https://github.com/locationtech/geotrellis/issues/3253\n",
    "// GeoTrellis 3.5.3 is required\n",
    "zoom7.mapTransform.keysForGeometry(extentsIntersection.toPolygon)"
   ]
  },
  {
   "cell_type": "code",
   "execution_count": null,
   "metadata": {},
   "outputs": [],
   "source": [
    "val ltmrs = mrs.tileToLayout(zoom7)"
   ]
  },
  {
   "cell_type": "code",
   "execution_count": null,
   "metadata": {},
   "outputs": [],
   "source": [
    "Image(ltmrs.read(SpatialKey(113, 50)).get.band(0).renderPng())"
   ]
  },
  {
   "cell_type": "code",
   "execution_count": null,
   "metadata": {},
   "outputs": [],
   "source": [
    "Image(ltmrs.read(SpatialKey(114, 50)).get.band(0).renderPng())"
   ]
  },
  {
   "cell_type": "code",
   "execution_count": null,
   "metadata": {},
   "outputs": [],
   "source": [
    "import geotrellis.layer.stitch._\n",
    "\n",
    "val t11350 = ltmrs.read(SpatialKey(113, 50)).get.band(0)\n",
    "val t11450 = ltmrs.read(SpatialKey(114, 50)).get.band(0)\n",
    "\n",
    "t11350.dimensions\n",
    "t11450.dimensions\n",
    "\n",
    "val stitched = \n",
    "  TileLayoutStitcher\n",
    "    .stitch(\n",
    "      Seq(\n",
    "        SpatialKey(113, 50) -> t11350,\n",
    "        SpatialKey(114, 50) -> t11450,\n",
    "      )\n",
    "    )\n",
    "\n"
   ]
  },
  {
   "cell_type": "code",
   "execution_count": null,
   "metadata": {},
   "outputs": [],
   "source": [
    "val stitchedTile = stitched._1\n",
    "\n",
    "stitchedTile.dimensions\n",
    "Image(stitchedTile.renderPng().bytes)"
   ]
  }
 ],
 "metadata": {
  "kernelspec": {
   "display_name": "Scala 2.12",
   "language": "scala",
   "name": "scala212"
  },
  "language_info": {
   "codemirror_mode": "text/x-scala",
   "file_extension": ".sc",
   "mimetype": "text/x-scala",
   "name": "scala",
   "nbconvert_exporter": "script",
   "version": "2.12.12"
  }
 },
 "nbformat": 4,
 "nbformat_minor": 4
}
