{
 "cells": [
  {
   "cell_type": "markdown",
   "metadata": {},
   "source": [
    "![gt](https://www.osgeo.org/wp-content/uploads/GeoTrellis.png)"
   ]
  },
  {
   "cell_type": "code",
   "execution_count": null,
   "metadata": {
    "scrolled": false
   },
   "outputs": [],
   "source": [
    "import $ivy.`org.locationtech.geotrellis::geotrellis-raster:3.5.2`\n",
    "import $ivy.`org.slf4j:slf4j-simple:1.7.30`"
   ]
  },
  {
   "cell_type": "markdown",
   "metadata": {},
   "source": [
    "## RasterSource for Landsat\n",
    "- [RasterSource Overview](https://geotrellis.github.io/geotrellis-workshop/docs/rastersource)\n",
    "- [RasterSource ScalaDoc](https://geotrellis.github.io/scaladocs/latest/geotrellis/raster/RasterSource.html)"
   ]
  },
  {
   "cell_type": "code",
   "execution_count": null,
   "metadata": {},
   "outputs": [],
   "source": [
    "import geotrellis.raster._\n",
    "import geotrellis.raster.geotiff.GeoTiffRasterSource"
   ]
  },
  {
   "cell_type": "code",
   "execution_count": null,
   "metadata": {},
   "outputs": [],
   "source": [
    "def func(arg: String) = arg\n",
    "// String => String\n",
    "val arg = { str => func(str) }"
   ]
  },
  {
   "cell_type": "code",
   "execution_count": null,
   "metadata": {},
   "outputs": [],
   "source": []
  },
  {
   "cell_type": "code",
   "execution_count": null,
   "metadata": {
    "scrolled": true
   },
   "outputs": [],
   "source": [
    "// String => String\n",
    "// can we define similar strings to access rasters from S3?\n",
    "def assetUri(key: String): String = s\"https://geotrellis-workshop.s3.amazonaws.com/$key\"\n",
    "def bandUri(band: String): String = assetUri(s\"landsat/LC81070352015218LGN00_$band.TIF\")\n",
    "\n",
    "bandUri(\"string\")"
   ]
  },
  {
   "cell_type": "code",
   "execution_count": null,
   "metadata": {},
   "outputs": [],
   "source": [
    "val greenBand = GeoTiffRasterSource(bandUri(\"B3\"))\n",
    "val redBand   = GeoTiffRasterSource(bandUri(\"B4\"))\n",
    "val nirBand   = GeoTiffRasterSource(bandUri(\"B5\"))\n",
    "val qaBand    = GeoTiffRasterSource(bandUri(\"BQA\"))"
   ]
  },
  {
   "cell_type": "code",
   "execution_count": null,
   "metadata": {},
   "outputs": [],
   "source": [
    "redBand.metadata\n",
    "redBand.crs\n"
   ]
  },
  {
   "cell_type": "markdown",
   "metadata": {},
   "source": [
    "## Read Overview\n",
    "\n",
    "Landsat scenes in the `geotrellis-workshop` bucket have added overviews\n",
    "\n",
    "- `RasterSource.resolutions`\n",
    "- `RasterSource.resample`\n",
    "- Reading tiles, `Option` return\n",
    "- Rendering tiles\n",
    "- Fixing `NODATA` value"
   ]
  },
  {
   "cell_type": "code",
   "execution_count": null,
   "metadata": {},
   "outputs": [],
   "source": [
    "// 7751, 7891\n",
    "// Overviews: 3876x3946, 1938x1973, 969x987, 485x494, 243x247\n",
    "redBand.resolutions"
   ]
  },
  {
   "cell_type": "code",
   "execution_count": null,
   "metadata": {
    "scrolled": true
   },
   "outputs": [],
   "source": [
    "import geotrellis.raster.resample._\n",
    "import geotrellis.raster.io.geotiff._\n",
    "\n",
    "val overview = redBand.resample(\n",
    "    resampleTarget = TargetCellSize(CellSize(500,500)), \n",
    "    method = NearestNeighbor, \n",
    "    strategy = Auto()\n",
    ")\n"
   ]
  },
  {
   "cell_type": "code",
   "execution_count": null,
   "metadata": {},
   "outputs": [],
   "source": [
    "// val opt: Option[String] = None\n",
    "\n",
    "// opt.getOrElse(\"str\")"
   ]
  },
  {
   "cell_type": "code",
   "execution_count": null,
   "metadata": {},
   "outputs": [],
   "source": [
    "// Option\n",
    "// Some(value)\n",
    "// None\n",
    "\n",
    "val result: Option[Raster[MultibandTile]] = overview.read()\n",
    "val raster: Raster[MultibandTile] = result.get\n",
    "\n",
    "val tile: Tile = raster.tile.band(0)"
   ]
  },
  {
   "cell_type": "code",
   "execution_count": null,
   "metadata": {},
   "outputs": [],
   "source": [
    "Image(tile.renderPng().bytes)"
   ]
  },
  {
   "cell_type": "code",
   "execution_count": null,
   "metadata": {
    "scrolled": true
   },
   "outputs": [],
   "source": [
    "val histogram = tile.histogram\n",
    "// histogram.values()"
   ]
  },
  {
   "cell_type": "code",
   "execution_count": null,
   "metadata": {
    "scrolled": false
   },
   "outputs": [],
   "source": [
    "val colorMap = ColorRamps.BlueToRed.toColorMap(histogram)\n",
    "\n",
    "colorMap.colors"
   ]
  },
  {
   "cell_type": "code",
   "execution_count": null,
   "metadata": {
    "scrolled": true
   },
   "outputs": [],
   "source": [
    "// why the blue background?\n",
    "Image(tile.withNoData(Some(0)).renderPng(colorMap).bytes)"
   ]
  },
  {
   "cell_type": "markdown",
   "metadata": {},
   "source": [
    "## Read GeoJSON\n",
    "GeoTrellis uses [circe](https://circe.github.io/circe/) library to parse and write JSON.\n",
    "\n",
    "All we have to do is provide Encoders/Decoders for GIS types like [MultiPolygon](https://github.com/locationtech/geotrellis/blob/1a2ea84f7a15d790a13a75ede0fecee351ac4a7e/vector/src/main/scala/geotrellis/vector/io/json/GeometryFormats.scala#L157-L173)"
   ]
  },
  {
   "cell_type": "code",
   "execution_count": null,
   "metadata": {},
   "outputs": [],
   "source": [
    "import _root_.io.circe._  \n",
    "import _root_.io.circe.syntax._\n",
    "import geotrellis.vector._\n",
    "\n",
    "val json = scala.io.Source.fromURL(assetUri(\"gadm36/JPN_1_Chiba.geojson\")).mkString\n",
    "Text(json)"
   ]
  },
  {
   "cell_type": "code",
   "execution_count": null,
   "metadata": {},
   "outputs": [],
   "source": [
    "json.parseJson"
   ]
  },
  {
   "cell_type": "code",
   "execution_count": null,
   "metadata": {
    "scrolled": true
   },
   "outputs": [],
   "source": [
    "import scala.util.Try\n",
    "\n",
    "val chibaAoi = json.parseJson.as[MultiPolygon].right.get\n",
    "\n",
    "// Option\n",
    "// Some\n",
    "// None\n",
    "\n",
    "// Either\n",
    "// Right(v: Int)\n",
    "// Left(e: String)\n"
   ]
  },
  {
   "cell_type": "code",
   "execution_count": null,
   "metadata": {},
   "outputs": [],
   "source": [
    "chibaAoi.asJson.spaces4"
   ]
  },
  {
   "cell_type": "markdown",
   "metadata": {},
   "source": [
    "## Read Window from Landsat\n",
    "- Using [Proj4J](https://github.com/locationtech/proj4j)\n",
    "\n",
    "- [MultiPolygon Reproject ScalaDoc](https://geotrellis.github.io/scaladocs/latest/geotrellis/vector/reproject/Implicits$ReprojectMutliPolygon.html)\n",
    "- [MultiPolygon Reproject Implicit Method](https://github.com/locationtech/geotrellis/blob/2f8348ac299d889282b7e6d379eed4696ece1dd7/vector/src/main/scala/geotrellis/vector/reproject/Implicits.scala#L89)                                   "
   ]
  },
  {
   "cell_type": "code",
   "execution_count": null,
   "metadata": {
    "scrolled": true
   },
   "outputs": [],
   "source": [
    "chibaAoi.extent"
   ]
  },
  {
   "cell_type": "code",
   "execution_count": null,
   "metadata": {},
   "outputs": [],
   "source": [
    "redBand.crs"
   ]
  },
  {
   "cell_type": "code",
   "execution_count": null,
   "metadata": {
    "scrolled": true
   },
   "outputs": [],
   "source": [
    "redBand.read(chibaAoi.extent) // Oh no, we read None!"
   ]
  },
  {
   "cell_type": "code",
   "execution_count": null,
   "metadata": {},
   "outputs": [],
   "source": [
    "import geotrellis.proj4._\n",
    "\n",
    "val chibaAoiUtm = chibaAoi.reproject(LatLng, greenBand.crs)"
   ]
  },
  {
   "cell_type": "code",
   "execution_count": null,
   "metadata": {},
   "outputs": [],
   "source": [
    "val chibaUtmExtent = chibaAoiUtm.extent\n",
    "val chibaRedRaster = redBand.read(chibaUtmExtent).get"
   ]
  },
  {
   "cell_type": "code",
   "execution_count": null,
   "metadata": {
    "scrolled": false
   },
   "outputs": [],
   "source": [
    "val chibaRedBand = chibaRedRaster.tile.band(0).withNoData(Some(0))\n",
    "Image(chibaRedBand.renderPng(colorMap).bytes)"
   ]
  },
  {
   "cell_type": "markdown",
   "metadata": {},
   "source": [
    "## Rasterize AOI\n",
    "Lets verify that AOI has been reprojected correctly by rasterizing it onto the Landsat scene"
   ]
  },
  {
   "cell_type": "code",
   "execution_count": null,
   "metadata": {},
   "outputs": [],
   "source": [
    "val chibaMask: MutableArrayTile = chibaRedBand.mutable\n",
    "\n",
    "chibaRedRaster.rasterExtent.foreach(chibaAoiUtm) { (x, y) =>\n",
    "    chibaMask.set(x, y, Short.MaxValue)\n",
    "}\n",
    "\n",
    "// WARNING: this worked, but we just mutated the chibaRedBand Tile!\n",
    "Image(chibaMask.renderPng(colorMap).bytes)"
   ]
  },
  {
   "cell_type": "markdown",
   "metadata": {},
   "source": [
    "## Mask Clouds using QA Layer"
   ]
  },
  {
   "cell_type": "code",
   "execution_count": null,
   "metadata": {},
   "outputs": [],
   "source": [
    "val qaTile: Tile = qaBand.read(chibaUtmExtent).get.tile.band(0).withNoData(Some(0))"
   ]
  },
  {
   "cell_type": "code",
   "execution_count": null,
   "metadata": {},
   "outputs": [],
   "source": [
    "def maskClouds(tile: Tile): Tile =\n",
    "  tile.combine(qaTile) { (v: Int, qa: Int) =>\n",
    "    val isCloud = qa & 0x8000\n",
    "    val isCirrus = qa & 0x2000\n",
    "    if(isCloud > 0 || isCirrus > 0) { NODATA }\n",
    "    else { v }\n",
    "  }"
   ]
  },
  {
   "cell_type": "code",
   "execution_count": null,
   "metadata": {
    "scrolled": true
   },
   "outputs": [],
   "source": [
    "Image(maskClouds(chibaRedBand).renderPng(colorMap).bytes)"
   ]
  },
  {
   "cell_type": "markdown",
   "metadata": {},
   "source": [
    "## Compute NDVI"
   ]
  },
  {
   "cell_type": "code",
   "execution_count": null,
   "metadata": {},
   "outputs": [],
   "source": [
    "def ndvi (r: Double, ir: Double) : Double = {\n",
    "    if (isData(r) && isData(ir)) {\n",
    "        (ir - r) / (ir + r)\n",
    "    } else {\n",
    "      // https://github.com/locationtech/geotrellis/blob/master/raster/src/main/scala/geotrellis/raster/package.scala#L104-L111\n",
    "      doubleNODATA\n",
    "    }\n",
    "}"
   ]
  },
  {
   "cell_type": "code",
   "execution_count": null,
   "metadata": {},
   "outputs": [],
   "source": [
    "val chibaNirBand = nirBand.read(chibaUtmExtent).get.tile.band(0)"
   ]
  },
  {
   "cell_type": "code",
   "execution_count": null,
   "metadata": {},
   "outputs": [],
   "source": [
    "// .convert(FloatConstantNoDataCellType)\n",
    "\n",
    "// Landsat tiles are stored as Short (0 - 32767), NDVI should be Float (-1.0 .. 1.0)\n",
    "val red = maskClouds(chibaRedBand).convert(FloatConstantNoDataCellType)\n",
    "val nir = maskClouds(chibaNirBand).convert(FloatConstantNoDataCellType)"
   ]
  },
  {
   "cell_type": "code",
   "execution_count": null,
   "metadata": {
    "scrolled": true
   },
   "outputs": [],
   "source": [
    "val chibaNdvi = red.combineDouble(nir) { (r, ir) =>\n",
    "    if (isData(r) && isData(ir)) {\n",
    "        (ir - r) / (ir + r)\n",
    "    } else {\n",
    "      // https://github.com/locationtech/geotrellis/blob/master/raster/src/main/scala/geotrellis/raster/package.scala#L104-L111\n",
    "      doubleNODATA\n",
    "    }   \n",
    "}"
   ]
  },
  {
   "cell_type": "code",
   "execution_count": null,
   "metadata": {},
   "outputs": [],
   "source": [
    "val ndviColorMap = ColorMap.fromStringDouble(\n",
    "    \"0:ffffe5ff;0.1:f7fcb9ff;0.2:d9f0a3ff;0.3:addd8eff;0.4:78c679ff;0.5:41ab5dff;0.6:238443ff;0.7:006837ff;1:004529ff\"\n",
    ").get\n",
    "\n",
    "Image(chibaNdvi.renderPng(ndviColorMap).bytes)"
   ]
  },
  {
   "cell_type": "code",
   "execution_count": null,
   "metadata": {},
   "outputs": [],
   "source": [
    "val geotiff = GeoTiff(chibaNdvi, chibaRedRaster.extent, redBand.crs)\n",
    "geotiff.write(\"ndvi.tif\")"
   ]
  },
  {
   "cell_type": "code",
   "execution_count": null,
   "metadata": {
    "scrolled": true
   },
   "outputs": [],
   "source": [
    "Image(tile.withNoData(Some(0)).hillshade(CellSize(500, 500)).renderPng())"
   ]
  }
 ],
 "metadata": {
  "kernelspec": {
   "display_name": "Scala 2.12",
   "language": "scala",
   "name": "scala212"
  },
  "language_info": {
   "codemirror_mode": "text/x-scala",
   "file_extension": ".sc",
   "mimetype": "text/x-scala",
   "name": "scala",
   "nbconvert_exporter": "script",
   "version": "2.12.12"
  }
 },
 "nbformat": 4,
 "nbformat_minor": 2
}
